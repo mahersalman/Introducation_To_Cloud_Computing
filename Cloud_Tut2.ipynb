{
  "nbformat": 4,
  "nbformat_minor": 0,
  "metadata": {
    "colab": {
      "provenance": [],
      "authorship_tag": "ABX9TyOfbw3FDudtH2wty4UHCMBf",
      "include_colab_link": true
    },
    "kernelspec": {
      "name": "python3",
      "display_name": "Python 3"
    },
    "language_info": {
      "name": "python"
    },
    "widgets": {
      "application/vnd.jupyter.widget-state+json": {
        "d4ab514bd4c044f2ba6fb7fc7ff08d04": {
          "model_module": "@jupyter-widgets/controls",
          "model_name": "DropdownModel",
          "model_module_version": "1.5.0",
          "state": {
            "_dom_classes": [],
            "_model_module": "@jupyter-widgets/controls",
            "_model_module_version": "1.5.0",
            "_model_name": "DropdownModel",
            "_options_labels": [
              "Noor_Amory",
              "Maher_Salman",
              "Samira_dabbah",
              "Adan_Butto",
              "Mohameed_egbaria"
            ],
            "_view_count": null,
            "_view_module": "@jupyter-widgets/controls",
            "_view_module_version": "1.5.0",
            "_view_name": "DropdownView",
            "description": "",
            "description_tooltip": null,
            "disabled": false,
            "index": 0,
            "layout": "IPY_MODEL_6cf9425ffcdc4cdeaaec511c25e05815",
            "style": "IPY_MODEL_dfd2a703af364adaa2fbbe6d91a0bb86"
          }
        },
        "6cf9425ffcdc4cdeaaec511c25e05815": {
          "model_module": "@jupyter-widgets/base",
          "model_name": "LayoutModel",
          "model_module_version": "1.2.0",
          "state": {
            "_model_module": "@jupyter-widgets/base",
            "_model_module_version": "1.2.0",
            "_model_name": "LayoutModel",
            "_view_count": null,
            "_view_module": "@jupyter-widgets/base",
            "_view_module_version": "1.2.0",
            "_view_name": "LayoutView",
            "align_content": null,
            "align_items": null,
            "align_self": null,
            "border": null,
            "bottom": null,
            "display": null,
            "flex": null,
            "flex_flow": null,
            "grid_area": null,
            "grid_auto_columns": null,
            "grid_auto_flow": null,
            "grid_auto_rows": null,
            "grid_column": null,
            "grid_gap": null,
            "grid_row": null,
            "grid_template_areas": null,
            "grid_template_columns": null,
            "grid_template_rows": null,
            "height": null,
            "justify_content": null,
            "justify_items": null,
            "left": null,
            "margin": null,
            "max_height": null,
            "max_width": null,
            "min_height": null,
            "min_width": null,
            "object_fit": null,
            "object_position": null,
            "order": null,
            "overflow": null,
            "overflow_x": null,
            "overflow_y": null,
            "padding": null,
            "right": null,
            "top": null,
            "visibility": null,
            "width": null
          }
        },
        "dfd2a703af364adaa2fbbe6d91a0bb86": {
          "model_module": "@jupyter-widgets/controls",
          "model_name": "DescriptionStyleModel",
          "model_module_version": "1.5.0",
          "state": {
            "_model_module": "@jupyter-widgets/controls",
            "_model_module_version": "1.5.0",
            "_model_name": "DescriptionStyleModel",
            "_view_count": null,
            "_view_module": "@jupyter-widgets/base",
            "_view_module_version": "1.2.0",
            "_view_name": "StyleView",
            "description_width": ""
          }
        }
      }
    }
  },
  "cells": [
    {
      "cell_type": "markdown",
      "metadata": {
        "id": "view-in-github",
        "colab_type": "text"
      },
      "source": [
        "<a href=\"https://colab.research.google.com/github/mahersalman/Introducation_To_Cloud_Computing/blob/main/Cloud_Tut2.ipynb\" target=\"_parent\"><img src=\"https://colab.research.google.com/assets/colab-badge.svg\" alt=\"Open In Colab\"/></a>"
      ]
    },
    {
      "cell_type": "code",
      "execution_count": null,
      "metadata": {
        "colab": {
          "base_uri": "https://localhost:8080/"
        },
        "id": "wyW_U-G2DaQv",
        "outputId": "f1c5eb01-317b-4779-eaba-7fd3f9a25818"
      },
      "outputs": [
        {
          "output_type": "stream",
          "name": "stdout",
          "text": [
            "Drive already mounted at /content/drive; to attempt to forcibly remount, call drive.mount(\"/content/drive\", force_remount=True).\n"
          ]
        }
      ],
      "source": [
        "import json\n",
        "from google.colab import drive\n",
        "drive.mount('/content/drive')"
      ]
    },
    {
      "cell_type": "markdown",
      "source": [
        "Load Json File (students)"
      ],
      "metadata": {
        "id": "RNrSz-6qEcN_"
      }
    },
    {
      "cell_type": "code",
      "source": [
        "with open(\"/content/drive/My Drive/Colab Notebooks/Cloud/students.json\", \"r\") as fid:\n",
        "     students = json.load(fid)\n",
        "\n"
      ],
      "metadata": {
        "id": "q_5QIK8VEYOZ"
      },
      "execution_count": null,
      "outputs": []
    },
    {
      "cell_type": "markdown",
      "source": [
        "#Form"
      ],
      "metadata": {
        "id": "hZVmqR0OHXHd"
      }
    },
    {
      "cell_type": "code",
      "source": [
        "# @title Names\n",
        "import ipywidgets as widgets\n",
        "from IPython.display import display\n",
        "\n",
        "dropdown = widgets.Dropdown(\n",
        "    options = students.keys()\n",
        ")\n",
        "\n",
        "display(dropdown)"
      ],
      "metadata": {
        "colab": {
          "base_uri": "https://localhost:8080/",
          "height": 49,
          "referenced_widgets": [
            "d4ab514bd4c044f2ba6fb7fc7ff08d04",
            "6cf9425ffcdc4cdeaaec511c25e05815",
            "dfd2a703af364adaa2fbbe6d91a0bb86"
          ]
        },
        "id": "9-6xd_EGHaA9",
        "outputId": "71c6a45d-fa21-4aac-eea7-32cce57ab80a"
      },
      "execution_count": 52,
      "outputs": [
        {
          "output_type": "display_data",
          "data": {
            "text/plain": [
              "Dropdown(options=('Noor_Amory', 'Maher_Salman', 'Samira_dabbah', 'Adan_Butto', 'Mohameed_egbaria'), value='Noo…"
            ],
            "application/vnd.jupyter.widget-view+json": {
              "version_major": 2,
              "version_minor": 0,
              "model_id": "d4ab514bd4c044f2ba6fb7fc7ff08d04"
            }
          },
          "metadata": {}
        }
      ]
    },
    {
      "cell_type": "code",
      "source": [
        "# @title Student Information\n",
        "chosen_name = dropdown.value\n",
        "information = students[chosen_name]\n",
        "print(f\"Full Name : { information['name']} { information['familyname']}\" )\n",
        "print(f\"Email : { information['braudemail']} \")\n",
        "print(f\"Courses : { information['ListOfCourses']} \")\n",
        "print(f\"Link: { information['SpacialLink']}\")\n",
        "interested = information.get('InterestedTopic',None)\n",
        "if interested:\n",
        "  print(f\"Interested Topic: {interested}\")\n",
        "\n"
      ],
      "metadata": {
        "colab": {
          "base_uri": "https://localhost:8080/"
        },
        "id": "zldjlHJvHodr",
        "outputId": "7fbdf84c-edf1-491e-ae84-e5997e8d734b"
      },
      "execution_count": 54,
      "outputs": [
        {
          "output_type": "stream",
          "name": "stdout",
          "text": [
            "Full Name : Noor Amory\n",
            "Email : Noor.Amory@e.braude.ac.il \n",
            "Courses : ['CyrptoLogy', 'Cloud', 'WEB'] \n",
            "Link: linkedin.com/in/noor-amory-35877925a\n",
            "Interested Topic: SpongsBob\n"
          ]
        }
      ]
    },
    {
      "cell_type": "code",
      "source": [
        "# @title Update Interested Topic\n",
        "interested_topic = \"SpongsBob\" # @param {type:\"string\"}\n",
        "students[chosen_name]['InterestedTopic'] = interested_topic\n"
      ],
      "metadata": {
        "id": "3w4gb8PXI4DT"
      },
      "execution_count": 53,
      "outputs": []
    },
    {
      "cell_type": "code",
      "source": [
        "with open('/content/drive/My Drive/Colab Notebooks/Cloud/students.json', \"w\") as fid:\n",
        "    json.dump(students, fid, indent=4)\n"
      ],
      "metadata": {
        "id": "gUXsrs9aJiyo"
      },
      "execution_count": 55,
      "outputs": []
    }
  ]
}