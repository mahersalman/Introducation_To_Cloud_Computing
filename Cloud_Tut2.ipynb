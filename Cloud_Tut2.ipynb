{
  "nbformat": 4,
  "nbformat_minor": 0,
  "metadata": {
    "colab": {
      "provenance": [],
      "authorship_tag": "ABX9TyOSFruYElaiGhtD+y1o8Lhp",
      "include_colab_link": true
    },
    "kernelspec": {
      "name": "python3",
      "display_name": "Python 3"
    },
    "language_info": {
      "name": "python"
    },
    "widgets": {
      "application/vnd.jupyter.widget-state+json": {
        "113180d385df40f0a0e491cb963ed61a": {
          "model_module": "@jupyter-widgets/controls",
          "model_name": "DropdownModel",
          "model_module_version": "1.5.0",
          "state": {
            "_dom_classes": [],
            "_model_module": "@jupyter-widgets/controls",
            "_model_module_version": "1.5.0",
            "_model_name": "DropdownModel",
            "_options_labels": [
              "Noor_Amory",
              "Maher_Salman",
              "Samira_dabbah",
              "Adan_Butto",
              "Mohameed_egbaria",
              "Asad Saffouri"
            ],
            "_view_count": null,
            "_view_module": "@jupyter-widgets/controls",
            "_view_module_version": "1.5.0",
            "_view_name": "DropdownView",
            "description": "",
            "description_tooltip": null,
            "disabled": false,
            "index": 1,
            "layout": "IPY_MODEL_044011369e094dd5b59565840a48aca1",
            "style": "IPY_MODEL_389e168bca394d6f9f2e3cc7ac187590"
          }
        },
        "044011369e094dd5b59565840a48aca1": {
          "model_module": "@jupyter-widgets/base",
          "model_name": "LayoutModel",
          "model_module_version": "1.2.0",
          "state": {
            "_model_module": "@jupyter-widgets/base",
            "_model_module_version": "1.2.0",
            "_model_name": "LayoutModel",
            "_view_count": null,
            "_view_module": "@jupyter-widgets/base",
            "_view_module_version": "1.2.0",
            "_view_name": "LayoutView",
            "align_content": null,
            "align_items": null,
            "align_self": null,
            "border": null,
            "bottom": null,
            "display": null,
            "flex": null,
            "flex_flow": null,
            "grid_area": null,
            "grid_auto_columns": null,
            "grid_auto_flow": null,
            "grid_auto_rows": null,
            "grid_column": null,
            "grid_gap": null,
            "grid_row": null,
            "grid_template_areas": null,
            "grid_template_columns": null,
            "grid_template_rows": null,
            "height": null,
            "justify_content": null,
            "justify_items": null,
            "left": null,
            "margin": null,
            "max_height": null,
            "max_width": null,
            "min_height": null,
            "min_width": null,
            "object_fit": null,
            "object_position": null,
            "order": null,
            "overflow": null,
            "overflow_x": null,
            "overflow_y": null,
            "padding": null,
            "right": null,
            "top": null,
            "visibility": null,
            "width": null
          }
        },
        "389e168bca394d6f9f2e3cc7ac187590": {
          "model_module": "@jupyter-widgets/controls",
          "model_name": "DescriptionStyleModel",
          "model_module_version": "1.5.0",
          "state": {
            "_model_module": "@jupyter-widgets/controls",
            "_model_module_version": "1.5.0",
            "_model_name": "DescriptionStyleModel",
            "_view_count": null,
            "_view_module": "@jupyter-widgets/base",
            "_view_module_version": "1.2.0",
            "_view_name": "StyleView",
            "description_width": ""
          }
        }
      }
    }
  },
  "cells": [
    {
      "cell_type": "markdown",
      "metadata": {
        "id": "view-in-github",
        "colab_type": "text"
      },
      "source": [
        "<a href=\"https://colab.research.google.com/github/mahersalman/Introducation_To_Cloud_Computing/blob/main/Cloud_Tut2.ipynb\" target=\"_parent\"><img src=\"https://colab.research.google.com/assets/colab-badge.svg\" alt=\"Open In Colab\"/></a>"
      ]
    },
    {
      "cell_type": "code",
      "execution_count": 1,
      "metadata": {
        "colab": {
          "base_uri": "https://localhost:8080/"
        },
        "id": "wyW_U-G2DaQv",
        "outputId": "c69f54fd-4c6a-4b20-8e43-21901632f4ef"
      },
      "outputs": [
        {
          "output_type": "stream",
          "name": "stdout",
          "text": [
            "Mounted at /content/drive\n"
          ]
        }
      ],
      "source": [
        "import json\n",
        "from google.colab import drive\n",
        "drive.mount('/content/drive')"
      ]
    },
    {
      "cell_type": "markdown",
      "source": [
        "Load Json File (students)"
      ],
      "metadata": {
        "id": "RNrSz-6qEcN_"
      }
    },
    {
      "cell_type": "code",
      "source": [
        "with open(\"/content/drive/My Drive/Colab Notebooks/Cloud/students.json\", \"r\") as fid:\n",
        "     students = json.load(fid)\n",
        "print(students)\n"
      ],
      "metadata": {
        "id": "q_5QIK8VEYOZ",
        "colab": {
          "base_uri": "https://localhost:8080/"
        },
        "outputId": "01df4bee-9b48-42d0-8c5e-846bc7251be8"
      },
      "execution_count": 8,
      "outputs": [
        {
          "output_type": "stream",
          "name": "stdout",
          "text": [
            "{'Noor_Amory': {'name': 'Noor', 'familyname': 'Amory', 'braudemail': 'Noor.Amory@e.braude.ac.il', 'ListOfCourses': ['CyrptoLogy', 'Cloud', 'WEB'], 'SpacialLink': 'linkedin.com/in/noor-amory-35877925a'}, 'Maher_Salman': {'name': 'Maher', 'familyname': 'Salman', 'braudemail': 'Maher.Salman@e.braude.ac.il', 'ListOfCourses': ['Machine Learning', 'Cloud', 'WEB'], 'SpacialLink': 'linkedin.com/in/maher-salman/', 'InterestedTopic': 'Data Structure'}, 'Samira_dabbah': {'name': 'Samira', 'familyname': 'dabbah', 'braudemail': 'Samira.dabbah@e.braude.ac.il', 'ListOfCourses': ['Machine Learning', 'Cloud', 'WEB'], 'SpacialLink': 'https://w3.braude.ac.il/'}, 'Adan_Butto': {'name': 'Adan', 'familyname': 'Butto', 'braudemail': 'Adan.butto@e.braude.ac.il', 'ListOfCourses': ['Machine Learning', 'Cloud', 'E-commerce'], 'SpacialLink': 'neetcode.io'}, 'Mohameed_egbaria': {'name': 'Mohameed', 'familyname': 'egbaria', 'braudemail': 'Mohameed.egbaria@e.braude.com', 'ListOfCourses': ['Cloud', 'WEB'], 'SpacialLink': 'https://w3.braude.ac.il/'}, 'Asad Saffouri': {'name': 'asad', 'familyname': 'saffouri', 'braudemail': 'Asad.Saffouri@e.braude.com', 'ListOfCourses': ['Cloud', 'WEB', 'CyrptoLogy'], 'SpacialLink': ''}}\n"
          ]
        }
      ]
    },
    {
      "cell_type": "markdown",
      "source": [
        "#Form"
      ],
      "metadata": {
        "id": "hZVmqR0OHXHd"
      }
    },
    {
      "cell_type": "code",
      "source": [
        "# @title Names\n",
        "import ipywidgets as widgets\n",
        "from IPython.display import display\n",
        "\n",
        "dropdown = widgets.Dropdown(\n",
        "    options = students.keys()\n",
        ")\n",
        "\n",
        "display(dropdown)"
      ],
      "metadata": {
        "colab": {
          "base_uri": "https://localhost:8080/",
          "height": 49,
          "referenced_widgets": [
            "113180d385df40f0a0e491cb963ed61a",
            "044011369e094dd5b59565840a48aca1",
            "389e168bca394d6f9f2e3cc7ac187590"
          ]
        },
        "id": "9-6xd_EGHaA9",
        "outputId": "c1120866-fdf1-43da-c30d-6545f1173f57"
      },
      "execution_count": 3,
      "outputs": [
        {
          "output_type": "display_data",
          "data": {
            "text/plain": [
              "Dropdown(options=('Noor_Amory', 'Maher_Salman', 'Samira_dabbah', 'Adan_Butto', 'Mohameed_egbaria', 'Asad Saffo…"
            ],
            "application/vnd.jupyter.widget-view+json": {
              "version_major": 2,
              "version_minor": 0,
              "model_id": "113180d385df40f0a0e491cb963ed61a"
            }
          },
          "metadata": {}
        }
      ]
    },
    {
      "cell_type": "code",
      "source": [
        "# @title Student Information\n",
        "chosen_name = dropdown.value\n",
        "information = students[chosen_name]\n",
        "print(f\"Full Name : { information['name']} { information['familyname']}\" )\n",
        "print(f\"Email : { information['braudemail']} \")\n",
        "print(f\"Courses : { information['ListOfCourses']} \")\n",
        "print(f\"Link: { information['SpacialLink']}\")\n",
        "interested = information.get('InterestedTopic',None)\n",
        "if interested:\n",
        "  print(f\"Interested Topic: {interested}\")\n",
        "\n"
      ],
      "metadata": {
        "colab": {
          "base_uri": "https://localhost:8080/"
        },
        "id": "zldjlHJvHodr",
        "outputId": "025a6ee1-f417-4826-f2c1-d175bef09b50"
      },
      "execution_count": 7,
      "outputs": [
        {
          "output_type": "stream",
          "name": "stdout",
          "text": [
            "Full Name : Maher Salman\n",
            "Email : Maher.Salman@e.braude.ac.il \n",
            "Courses : ['Machine Learning', 'Cloud', 'WEB'] \n",
            "Link: linkedin.com/in/maher-salman/\n",
            "Interested Topic: Data Structure\n"
          ]
        }
      ]
    },
    {
      "cell_type": "code",
      "source": [
        "# @title Update Interested Topic\n",
        "interested_topic = \"Data Structure\" # @param {type:\"string\"}\n",
        "students[chosen_name]['InterestedTopic'] = interested_topic\n"
      ],
      "metadata": {
        "id": "3w4gb8PXI4DT"
      },
      "execution_count": 5,
      "outputs": []
    },
    {
      "cell_type": "code",
      "source": [
        "with open('/content/drive/My Drive/Colab Notebooks/Cloud/students.json', \"w\") as fid:\n",
        "    json.dump(students, fid, indent=4)\n"
      ],
      "metadata": {
        "id": "gUXsrs9aJiyo"
      },
      "execution_count": 6,
      "outputs": []
    }
  ]
}