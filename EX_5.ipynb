{
  "nbformat": 4,
  "nbformat_minor": 0,
  "metadata": {
    "colab": {
      "provenance": [],
      "authorship_tag": "ABX9TyNPD9/wn2djttScrydQN5t5",
      "include_colab_link": true
    },
    "kernelspec": {
      "name": "python3",
      "display_name": "Python 3"
    },
    "language_info": {
      "name": "python"
    }
  },
  "cells": [
    {
      "cell_type": "markdown",
      "metadata": {
        "id": "view-in-github",
        "colab_type": "text"
      },
      "source": [
        "<a href=\"https://colab.research.google.com/github/mahersalman/Introducation_To_Cloud_Computing/blob/main/EX_5.ipynb\" target=\"_parent\"><img src=\"https://colab.research.google.com/assets/colab-badge.svg\" alt=\"Open In Colab\"/></a>"
      ]
    },
    {
      "cell_type": "code",
      "execution_count": 13,
      "metadata": {
        "colab": {
          "base_uri": "https://localhost:8080/"
        },
        "id": "6jSmaUQ8Bo99",
        "outputId": "2fb27c0b-a4bf-456f-d9ee-73c3fc430c5a"
      },
      "outputs": [
        {
          "output_type": "stream",
          "name": "stdout",
          "text": [
            "Requirement already satisfied: firebase in /usr/local/lib/python3.10/dist-packages (4.0.1)\n",
            "Requirement already satisfied: requests in /usr/local/lib/python3.10/dist-packages (from firebase) (2.31.0)\n",
            "Requirement already satisfied: charset-normalizer<4,>=2 in /usr/local/lib/python3.10/dist-packages (from requests->firebase) (3.3.2)\n",
            "Requirement already satisfied: idna<4,>=2.5 in /usr/local/lib/python3.10/dist-packages (from requests->firebase) (3.7)\n",
            "Requirement already satisfied: urllib3<3,>=1.21.1 in /usr/local/lib/python3.10/dist-packages (from requests->firebase) (2.0.7)\n",
            "Requirement already satisfied: certifi>=2017.4.17 in /usr/local/lib/python3.10/dist-packages (from requests->firebase) (2024.6.2)\n"
          ]
        }
      ],
      "source": [
        "!pip install firebase"
      ]
    },
    {
      "cell_type": "code",
      "source": [
        "from firebase import firebase\n",
        "\n",
        "# Initialize Firebase connection\n",
        "FBconn = firebase.FirebaseApplication('https://ex-5-95244-default-rtdb.firebaseio.com/', None)\n",
        "\n",
        "# List of student data\n",
        "students_data = [\n",
        "    {\n",
        "        \"name\": \"Noor\",\n",
        "        \"familyname\": \"Amory\",\n",
        "        \"braudemail\": \"Noor.Amory@e.braude.ac.il\",\n",
        "        \"ListOfCourses\": [\"CyrptoLogy\", \"Cloud\", \"WEB\"],\n",
        "        \"SpacialLink\": \"linkedin.com/in/noor-amory-35877925a\"\n",
        "    },\n",
        "   {\n",
        "        \"name\": \"Maher\",\n",
        "        \"familyname\": \"Salman\",\n",
        "        \"braudemail\": \"Maher.Salman@e.braude.ac.il\",\n",
        "        \"ListOfCourses\": [\"Machine Learning\", \"Cloud\", \"WEB\"],\n",
        "        \"SpacialLink\": \"linkedin.com/in/maher-salman/\"\n",
        "    },\n",
        "     {\n",
        "        \"name\": \"Samira\",\n",
        "        \"familyname\": \"dabbah\",\n",
        "        \"braudemail\": \"Samira.dabbah@e.braude.ac.il\",\n",
        "        \"ListOfCourses\": [\"Machine Learning\", \"Cloud\", \"WEB\"],\n",
        "        \"SpacialLink\": \"https://w3.braude.ac.il/\"\n",
        "    },\n",
        "     {\n",
        "        \"name\": \"Adan\",\n",
        "        \"familyname\": \"Butto\",\n",
        "        \"braudemail\": \"Adan.butto@e.braude.ac.il\",\n",
        "        \"ListOfCourses\": [\"Machine Learning\", \"Cloud\", \"E-commerce\"],\n",
        "        \"SpacialLink\": \"neetcode.io\"\n",
        "    },\n",
        "    {\n",
        "        \"name\": \"Mohameed\",\n",
        "        \"familyname\": \"egbaria\",\n",
        "        \"braudemail\": \"Mohameed.egbaria@e.braude.com\",\n",
        "        \"ListOfCourses\": [\"Cloud\", \"WEB\"],\n",
        "        \"SpacialLink\": \"https://w3.braude.ac.il/\"\n",
        "    },\n",
        "     {\n",
        "        \"name\": \"asad\",\n",
        "        \"familyname\": \"saffouri\",\n",
        "        \"braudemail\": \"Asad.Saffouri@e.braude.com\",\n",
        "        \"ListOfCourses\": [\"Cloud\", \"WEB\",\"CyrptoLogy\"],\n",
        "        \"SpacialLink\": \"\"\n",
        "    }\n",
        "]\n",
        "\n",
        "# Upload student data to Firebase\n",
        "for student_data in students_data:\n",
        "    result = FBconn.post('/myTest2/', student_data)\n",
        "    print(result)\n",
        "\n"
      ],
      "metadata": {
        "colab": {
          "base_uri": "https://localhost:8080/"
        },
        "id": "mSu9CG0gDQJ_",
        "outputId": "169451f9-bdca-4c08-a6ec-c8a8002033a2"
      },
      "execution_count": 14,
      "outputs": [
        {
          "output_type": "stream",
          "name": "stdout",
          "text": [
            "{'name': '-O0nYdEHkVh5UBopGMl3'}\n",
            "{'name': '-O0nYdFdCsI2v5AbhP-n'}\n",
            "{'name': '-O0nYdH-z86SsZ53yKjU'}\n",
            "{'name': '-O0nYdILIqYZVvlR_2xr'}\n",
            "{'name': '-O0nYdJqF4DsGsd0lbb5'}\n",
            "{'name': '-O0nYdLbIXPseKJJOHuN'}\n"
          ]
        }
      ]
    },
    {
      "cell_type": "code",
      "source": [
        "import json\n",
        "from firebase import firebase\n",
        "FBconn = firebase.FirebaseApplication('https://ex-5-95244-default-rtdb.firebaseio.com/',None)\n",
        "res=FBconn.get('/myTest2/',None)\n",
        "\n",
        "for key in res:\n",
        "    print(key+\":\\t\", res[key])\n"
      ],
      "metadata": {
        "colab": {
          "base_uri": "https://localhost:8080/"
        },
        "id": "ZXZ6KPCbEaiG",
        "outputId": "ce87568a-2989-41be-c960-03fbe474c5e5"
      },
      "execution_count": 15,
      "outputs": [
        {
          "output_type": "stream",
          "name": "stdout",
          "text": [
            "-O0nYdEHkVh5UBopGMl3:\t {'ListOfCourses': ['CyrptoLogy', 'Cloud', 'WEB'], 'SpacialLink': 'linkedin.com/in/noor-amory-35877925a', 'braudemail': 'Noor.Amory@e.braude.ac.il', 'familyname': 'Amory', 'name': 'Noor'}\n",
            "-O0nYdFdCsI2v5AbhP-n:\t {'ListOfCourses': ['Machine Learning', 'Cloud', 'WEB'], 'SpacialLink': 'linkedin.com/in/maher-salman/', 'braudemail': 'Maher.Salman@e.braude.ac.il', 'familyname': 'Salman', 'name': 'Maher'}\n",
            "-O0nYdH-z86SsZ53yKjU:\t {'ListOfCourses': ['Machine Learning', 'Cloud', 'WEB'], 'SpacialLink': 'https://w3.braude.ac.il/', 'braudemail': 'Samira.dabbah@e.braude.ac.il', 'familyname': 'dabbah', 'name': 'Samira'}\n",
            "-O0nYdILIqYZVvlR_2xr:\t {'ListOfCourses': ['Machine Learning', 'Cloud', 'E-commerce'], 'SpacialLink': 'neetcode.io', 'braudemail': 'Adan.butto@e.braude.ac.il', 'familyname': 'Butto', 'name': 'Adan'}\n",
            "-O0nYdJqF4DsGsd0lbb5:\t {'ListOfCourses': ['Cloud', 'WEB'], 'SpacialLink': 'https://w3.braude.ac.il/', 'braudemail': 'Mohameed.egbaria@e.braude.com', 'familyname': 'egbaria', 'name': 'Mohameed'}\n",
            "-O0nYdLbIXPseKJJOHuN:\t {'ListOfCourses': ['Cloud', 'WEB', 'CyrptoLogy'], 'SpacialLink': '', 'braudemail': 'Asad.Saffouri@e.braude.com', 'familyname': 'saffouri', 'name': 'asad'}\n"
          ]
        }
      ]
    }
  ]
}