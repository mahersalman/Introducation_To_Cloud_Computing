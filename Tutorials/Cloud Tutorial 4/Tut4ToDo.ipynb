{
  "nbformat": 4,
  "nbformat_minor": 0,
  "metadata": {
    "colab": {
      "provenance": [],
      "include_colab_link": true
    },
    "kernelspec": {
      "name": "python3",
      "display_name": "Python 3"
    },
    "language_info": {
      "name": "python"
    },
    "widgets": {
      "application/vnd.jupyter.widget-state+json": {
        "f159b10442084d3fb06276d279a98252": {
          "model_module": "@jupyter-widgets/controls",
          "model_name": "DropdownModel",
          "model_module_version": "1.5.0",
          "state": {
            "_dom_classes": [],
            "_model_module": "@jupyter-widgets/controls",
            "_model_module_version": "1.5.0",
            "_model_name": "DropdownModel",
            "_options_labels": [
              "Industry 4.0 Project",
              "Part Studio 1 Copy 1.stl",
              "Part Studio 1.stl",
              "Part Studio 2.stl",
              "Part Studio 2 Copy 1.stl",
              "None",
              "Bridge - StudentA1+A2+A3..stl",
              "Bridge - StudentA1+A2+A3.stl",
              "Bridge",
              "Update Bridge 5.12.22",
              "2_StudentA1+A2+A3.stl",
              "Bridge 1- StudentA1+A2+A3.stl",
              "Bridge Challenge 2.0 - Rabea+Aibeck+Shiraz (Look for the  notes in the STL file)",
              "Bridge V2",
              "Bridge - 2 - StudentA1+A2+A3.stl",
              "Bridge - 1 - StudentA1+A2+A3.stl",
              "Bridge ver1- Daniel&Omer (1).stl",
              "אתגר הגשר - הגדרה",
              "Start",
              "rotation to displacement"
            ],
            "_view_count": null,
            "_view_module": "@jupyter-widgets/controls",
            "_view_module_version": "1.5.0",
            "_view_name": "DropdownView",
            "description": "Document:",
            "description_tooltip": null,
            "disabled": false,
            "index": 0,
            "layout": "IPY_MODEL_77cd9f39b46e42a8a9f57e3089cb5d48",
            "style": "IPY_MODEL_6d92a4e5158c4f2c933aaa2942369397"
          }
        },
        "77cd9f39b46e42a8a9f57e3089cb5d48": {
          "model_module": "@jupyter-widgets/base",
          "model_name": "LayoutModel",
          "model_module_version": "1.2.0",
          "state": {
            "_model_module": "@jupyter-widgets/base",
            "_model_module_version": "1.2.0",
            "_model_name": "LayoutModel",
            "_view_count": null,
            "_view_module": "@jupyter-widgets/base",
            "_view_module_version": "1.2.0",
            "_view_name": "LayoutView",
            "align_content": null,
            "align_items": null,
            "align_self": null,
            "border": null,
            "bottom": null,
            "display": null,
            "flex": null,
            "flex_flow": null,
            "grid_area": null,
            "grid_auto_columns": null,
            "grid_auto_flow": null,
            "grid_auto_rows": null,
            "grid_column": null,
            "grid_gap": null,
            "grid_row": null,
            "grid_template_areas": null,
            "grid_template_columns": null,
            "grid_template_rows": null,
            "height": null,
            "justify_content": null,
            "justify_items": null,
            "left": null,
            "margin": null,
            "max_height": null,
            "max_width": null,
            "min_height": null,
            "min_width": null,
            "object_fit": null,
            "object_position": null,
            "order": null,
            "overflow": null,
            "overflow_x": null,
            "overflow_y": null,
            "padding": null,
            "right": null,
            "top": null,
            "visibility": null,
            "width": null
          }
        },
        "6d92a4e5158c4f2c933aaa2942369397": {
          "model_module": "@jupyter-widgets/controls",
          "model_name": "DescriptionStyleModel",
          "model_module_version": "1.5.0",
          "state": {
            "_model_module": "@jupyter-widgets/controls",
            "_model_module_version": "1.5.0",
            "_model_name": "DescriptionStyleModel",
            "_view_count": null,
            "_view_module": "@jupyter-widgets/base",
            "_view_module_version": "1.2.0",
            "_view_name": "StyleView",
            "description_width": ""
          }
        },
        "adcaaac30609480eba05a69e45d0389c": {
          "model_module": "@jupyter-widgets/controls",
          "model_name": "DropdownModel",
          "model_module_version": "1.5.0",
          "state": {
            "_dom_classes": [],
            "_model_module": "@jupyter-widgets/controls",
            "_model_module_version": "1.5.0",
            "_model_name": "DropdownModel",
            "_options_labels": [
              "1",
              "2",
              "3",
              "4",
              "5",
              "6",
              "7",
              "8",
              "9",
              "10",
              "11",
              "12"
            ],
            "_view_count": null,
            "_view_module": "@jupyter-widgets/controls",
            "_view_module_version": "1.5.0",
            "_view_name": "DropdownView",
            "description": "",
            "description_tooltip": null,
            "disabled": false,
            "index": 0,
            "layout": "IPY_MODEL_46673652827149ba9e893ecabc83e466",
            "style": "IPY_MODEL_d16e64a45e6d46be8fb2f1381d4ca43f"
          }
        },
        "46673652827149ba9e893ecabc83e466": {
          "model_module": "@jupyter-widgets/base",
          "model_name": "LayoutModel",
          "model_module_version": "1.2.0",
          "state": {
            "_model_module": "@jupyter-widgets/base",
            "_model_module_version": "1.2.0",
            "_model_name": "LayoutModel",
            "_view_count": null,
            "_view_module": "@jupyter-widgets/base",
            "_view_module_version": "1.2.0",
            "_view_name": "LayoutView",
            "align_content": null,
            "align_items": null,
            "align_self": null,
            "border": null,
            "bottom": null,
            "display": null,
            "flex": null,
            "flex_flow": null,
            "grid_area": null,
            "grid_auto_columns": null,
            "grid_auto_flow": null,
            "grid_auto_rows": null,
            "grid_column": null,
            "grid_gap": null,
            "grid_row": null,
            "grid_template_areas": null,
            "grid_template_columns": null,
            "grid_template_rows": null,
            "height": null,
            "justify_content": null,
            "justify_items": null,
            "left": null,
            "margin": null,
            "max_height": null,
            "max_width": null,
            "min_height": null,
            "min_width": null,
            "object_fit": null,
            "object_position": null,
            "order": null,
            "overflow": null,
            "overflow_x": null,
            "overflow_y": null,
            "padding": null,
            "right": null,
            "top": null,
            "visibility": null,
            "width": null
          }
        },
        "d16e64a45e6d46be8fb2f1381d4ca43f": {
          "model_module": "@jupyter-widgets/controls",
          "model_name": "DescriptionStyleModel",
          "model_module_version": "1.5.0",
          "state": {
            "_model_module": "@jupyter-widgets/controls",
            "_model_module_version": "1.5.0",
            "_model_name": "DescriptionStyleModel",
            "_view_count": null,
            "_view_module": "@jupyter-widgets/base",
            "_view_module_version": "1.2.0",
            "_view_name": "StyleView",
            "description_width": ""
          }
        },
        "bbd6eb9f7a4b4a89877c2dff994685b4": {
          "model_module": "@jupyter-widgets/controls",
          "model_name": "DropdownModel",
          "model_module_version": "1.5.0",
          "state": {
            "_dom_classes": [],
            "_model_module": "@jupyter-widgets/controls",
            "_model_module_version": "1.5.0",
            "_model_name": "DropdownModel",
            "_options_labels": [
              "2022",
              "2023"
            ],
            "_view_count": null,
            "_view_module": "@jupyter-widgets/controls",
            "_view_module_version": "1.5.0",
            "_view_name": "DropdownView",
            "description": "",
            "description_tooltip": null,
            "disabled": false,
            "index": 0,
            "layout": "IPY_MODEL_00a81ec35d194aaab74aaa1dae9b7d10",
            "style": "IPY_MODEL_c933e4d51fa9427299060bc749a7ff4c"
          }
        },
        "00a81ec35d194aaab74aaa1dae9b7d10": {
          "model_module": "@jupyter-widgets/base",
          "model_name": "LayoutModel",
          "model_module_version": "1.2.0",
          "state": {
            "_model_module": "@jupyter-widgets/base",
            "_model_module_version": "1.2.0",
            "_model_name": "LayoutModel",
            "_view_count": null,
            "_view_module": "@jupyter-widgets/base",
            "_view_module_version": "1.2.0",
            "_view_name": "LayoutView",
            "align_content": null,
            "align_items": null,
            "align_self": null,
            "border": null,
            "bottom": null,
            "display": null,
            "flex": null,
            "flex_flow": null,
            "grid_area": null,
            "grid_auto_columns": null,
            "grid_auto_flow": null,
            "grid_auto_rows": null,
            "grid_column": null,
            "grid_gap": null,
            "grid_row": null,
            "grid_template_areas": null,
            "grid_template_columns": null,
            "grid_template_rows": null,
            "height": null,
            "justify_content": null,
            "justify_items": null,
            "left": null,
            "margin": null,
            "max_height": null,
            "max_width": null,
            "min_height": null,
            "min_width": null,
            "object_fit": null,
            "object_position": null,
            "order": null,
            "overflow": null,
            "overflow_x": null,
            "overflow_y": null,
            "padding": null,
            "right": null,
            "top": null,
            "visibility": null,
            "width": null
          }
        },
        "c933e4d51fa9427299060bc749a7ff4c": {
          "model_module": "@jupyter-widgets/controls",
          "model_name": "DescriptionStyleModel",
          "model_module_version": "1.5.0",
          "state": {
            "_model_module": "@jupyter-widgets/controls",
            "_model_module_version": "1.5.0",
            "_model_name": "DescriptionStyleModel",
            "_view_count": null,
            "_view_module": "@jupyter-widgets/base",
            "_view_module_version": "1.2.0",
            "_view_name": "StyleView",
            "description_width": ""
          }
        },
        "c09ff21a90db416b8685ed59845cc90a": {
          "model_module": "@jupyter-widgets/controls",
          "model_name": "DropdownModel",
          "model_module_version": "1.5.0",
          "state": {
            "_dom_classes": [],
            "_model_module": "@jupyter-widgets/controls",
            "_model_module_version": "1.5.0",
            "_model_name": "DropdownModel",
            "_options_labels": [
              "Industry 4.0 Project",
              "Part Studio 1 Copy 1.stl",
              "Part Studio 1.stl",
              "Part Studio 2.stl",
              "Part Studio 2 Copy 1.stl",
              "None",
              "Bridge - StudentA1+A2+A3..stl",
              "Bridge - StudentA1+A2+A3.stl",
              "Bridge",
              "Update Bridge 5.12.22",
              "2_StudentA1+A2+A3.stl",
              "Bridge 1- StudentA1+A2+A3.stl",
              "Bridge Challenge 2.0 - Rabea+Aibeck+Shiraz (Look for the  notes in the STL file)",
              "Bridge V2",
              "Bridge - 2 - StudentA1+A2+A3.stl",
              "Bridge - 1 - StudentA1+A2+A3.stl",
              "Bridge ver1- Daniel&Omer (1).stl",
              "אתגר הגשר - הגדרה",
              "Start",
              "rotation to displacement"
            ],
            "_view_count": null,
            "_view_module": "@jupyter-widgets/controls",
            "_view_module_version": "1.5.0",
            "_view_name": "DropdownView",
            "description": "Document:",
            "description_tooltip": null,
            "disabled": false,
            "index": 6,
            "layout": "IPY_MODEL_71cef773bc9247488efce9ae49ec3e5c",
            "style": "IPY_MODEL_67887a3cc1c84b0592de50d2a01e3175"
          }
        },
        "71cef773bc9247488efce9ae49ec3e5c": {
          "model_module": "@jupyter-widgets/base",
          "model_name": "LayoutModel",
          "model_module_version": "1.2.0",
          "state": {
            "_model_module": "@jupyter-widgets/base",
            "_model_module_version": "1.2.0",
            "_model_name": "LayoutModel",
            "_view_count": null,
            "_view_module": "@jupyter-widgets/base",
            "_view_module_version": "1.2.0",
            "_view_name": "LayoutView",
            "align_content": null,
            "align_items": null,
            "align_self": null,
            "border": null,
            "bottom": null,
            "display": null,
            "flex": null,
            "flex_flow": null,
            "grid_area": null,
            "grid_auto_columns": null,
            "grid_auto_flow": null,
            "grid_auto_rows": null,
            "grid_column": null,
            "grid_gap": null,
            "grid_row": null,
            "grid_template_areas": null,
            "grid_template_columns": null,
            "grid_template_rows": null,
            "height": null,
            "justify_content": null,
            "justify_items": null,
            "left": null,
            "margin": null,
            "max_height": null,
            "max_width": null,
            "min_height": null,
            "min_width": null,
            "object_fit": null,
            "object_position": null,
            "order": null,
            "overflow": null,
            "overflow_x": null,
            "overflow_y": null,
            "padding": null,
            "right": null,
            "top": null,
            "visibility": null,
            "width": null
          }
        },
        "67887a3cc1c84b0592de50d2a01e3175": {
          "model_module": "@jupyter-widgets/controls",
          "model_name": "DescriptionStyleModel",
          "model_module_version": "1.5.0",
          "state": {
            "_model_module": "@jupyter-widgets/controls",
            "_model_module_version": "1.5.0",
            "_model_name": "DescriptionStyleModel",
            "_view_count": null,
            "_view_module": "@jupyter-widgets/base",
            "_view_module_version": "1.2.0",
            "_view_name": "StyleView",
            "description_width": ""
          }
        }
      }
    }
  },
  "cells": [
    {
      "cell_type": "markdown",
      "metadata": {
        "id": "view-in-github",
        "colab_type": "text"
      },
      "source": [
        "<a href=\"https://colab.research.google.com/github/mahersalman/Introducation_To_Cloud_Computing/blob/main/Tutorials/Cloud%20Tutorial%204/Tut4ToDo.ipynb\" target=\"_parent\"><img src=\"https://colab.research.google.com/assets/colab-badge.svg\" alt=\"Open In Colab\"/></a>"
      ]
    },
    {
      "cell_type": "code",
      "execution_count": 1,
      "metadata": {
        "id": "yB8t0BJKc8zl"
      },
      "outputs": [],
      "source": [
        "from google.colab import drive\n",
        "import pandas as pd\n",
        "import matplotlib.pyplot as plt\n",
        "import ipywidgets as widgets\n",
        "from IPython.display import display, clear_output\n",
        "import json\n",
        "import pandas as pd\n",
        "from collections import Counter\n"
      ]
    },
    {
      "cell_type": "markdown",
      "source": [
        "#Load Json File (data.json)"
      ],
      "metadata": {
        "id": "CTYQUYHm2ltL"
      }
    },
    {
      "cell_type": "code",
      "source": [
        "!git clone https://github.com/mahersalman/Introducation_To_Cloud_Computing.git\n",
        "json_path = './Introducation_To_Cloud_Computing/Tutorials/Cloud Tutorial 4/data.json'\n",
        "with open(json_path, \"r\") as fid:\n",
        "    data = json.load(fid)"
      ],
      "metadata": {
        "id": "NEsbOJ2Lg4fO",
        "colab": {
          "base_uri": "https://localhost:8080/"
        },
        "outputId": "373fee9c-3d25-4dae-d1d7-7a1c7c19f8c3"
      },
      "execution_count": 2,
      "outputs": [
        {
          "output_type": "stream",
          "name": "stdout",
          "text": [
            "Cloning into 'Introducation_To_Cloud_Computing'...\n",
            "remote: Enumerating objects: 44, done.\u001b[K\n",
            "remote: Counting objects: 100% (44/44), done.\u001b[K\n",
            "remote: Compressing objects: 100% (39/39), done.\u001b[K\n",
            "remote: Total 44 (delta 9), reused 19 (delta 2), pack-reused 0\u001b[K\n",
            "Receiving objects: 100% (44/44), 69.64 KiB | 432.00 KiB/s, done.\n",
            "Resolving deltas: 100% (9/9), done.\n"
          ]
        }
      ]
    },
    {
      "cell_type": "markdown",
      "source": [
        "#Chose Doucment\n"
      ],
      "metadata": {
        "id": "XGJiZRcNmXO8"
      }
    },
    {
      "cell_type": "code",
      "source": [
        "df = pd.DataFrame(data)\n",
        "\n",
        "# Function to plot bar graph\n",
        "def plot_bar_graph(document):\n",
        "    filtered_df = df[df['Document'] == document]\n",
        "    tab_counts = filtered_df['Tab'].value_counts()\n",
        "    plt.figure(figsize=(10, 6))\n",
        "    tab_counts.plot(kind='bar')\n",
        "    plt.title(f'Actions Count per Tab for Document: {document}')\n",
        "    plt.xlabel('Tab')\n",
        "    plt.ylabel('Number of Actions')\n",
        "    plt.show()\n",
        "\n",
        "# Get unique documents\n",
        "documents = df['Document'].unique()\n",
        "\n",
        "# Create dropdown widget\n",
        "dropdown = widgets.Dropdown(\n",
        "    options=documents,\n",
        "    description='Document:',\n",
        "    disabled=False,\n",
        ")\n",
        "\n",
        "# Handle dropdown value change\n",
        "def on_dropdown_change(change):\n",
        "    if change['type'] == 'change' and change['name'] == 'value':\n",
        "\n",
        "        clear_output(wait=True)\n",
        "        display(dropdown)\n",
        "        plot_bar_graph(change['new'])\n",
        "\n",
        "\n",
        "dropdown.observe(on_dropdown_change)\n",
        "\n",
        "# Display the dropdown\n",
        "display(dropdown)\n"
      ],
      "metadata": {
        "id": "RmL5xyhXory9",
        "colab": {
          "base_uri": "https://localhost:8080/",
          "height": 49,
          "referenced_widgets": [
            "f159b10442084d3fb06276d279a98252",
            "77cd9f39b46e42a8a9f57e3089cb5d48",
            "6d92a4e5158c4f2c933aaa2942369397"
          ]
        },
        "outputId": "214774e3-3402-421a-e9f7-f23a74456024"
      },
      "execution_count": 4,
      "outputs": [
        {
          "output_type": "display_data",
          "data": {
            "text/plain": [
              "Dropdown(description='Document:', options=('Industry 4.0 Project', 'Part Studio 1 Copy 1.stl', 'Part Studio 1.…"
            ],
            "application/vnd.jupyter.widget-view+json": {
              "version_major": 2,
              "version_minor": 0,
              "model_id": "f159b10442084d3fb06276d279a98252"
            }
          },
          "metadata": {}
        }
      ]
    },
    {
      "cell_type": "code",
      "source": [
        "# @title Month/Year DropDown\n",
        "month = [1,2,3,4,5,6,7,8,9,10,11,12]\n",
        "year = [2022,2023]\n",
        "print('chose Month')\n",
        "dropdown1 = widgets.Dropdown(\n",
        "    options = month\n",
        ")\n",
        "display(dropdown1)\n",
        "print('chose Year')\n",
        "dropdown2 = widgets.Dropdown(\n",
        "    options = year\n",
        ")\n",
        "display(dropdown2)\n"
      ],
      "metadata": {
        "id": "QLnlHhyBt4Fh",
        "colab": {
          "base_uri": "https://localhost:8080/",
          "height": 116,
          "referenced_widgets": [
            "adcaaac30609480eba05a69e45d0389c",
            "46673652827149ba9e893ecabc83e466",
            "d16e64a45e6d46be8fb2f1381d4ca43f",
            "bbd6eb9f7a4b4a89877c2dff994685b4",
            "00a81ec35d194aaab74aaa1dae9b7d10",
            "c933e4d51fa9427299060bc749a7ff4c"
          ]
        },
        "outputId": "bdb9dea4-7cf8-4fb0-879a-976f0ddda224"
      },
      "execution_count": 5,
      "outputs": [
        {
          "output_type": "stream",
          "name": "stdout",
          "text": [
            "chose Month\n"
          ]
        },
        {
          "output_type": "display_data",
          "data": {
            "text/plain": [
              "Dropdown(options=(1, 2, 3, 4, 5, 6, 7, 8, 9, 10, 11, 12), value=1)"
            ],
            "application/vnd.jupyter.widget-view+json": {
              "version_major": 2,
              "version_minor": 0,
              "model_id": "adcaaac30609480eba05a69e45d0389c"
            }
          },
          "metadata": {}
        },
        {
          "output_type": "stream",
          "name": "stdout",
          "text": [
            "chose Year\n"
          ]
        },
        {
          "output_type": "display_data",
          "data": {
            "text/plain": [
              "Dropdown(options=(2022, 2023), value=2022)"
            ],
            "application/vnd.jupyter.widget-view+json": {
              "version_major": 2,
              "version_minor": 0,
              "model_id": "bbd6eb9f7a4b4a89877c2dff994685b4"
            }
          },
          "metadata": {}
        }
      ]
    },
    {
      "cell_type": "code",
      "source": [
        "class Date:\n",
        "  def __init__(self,year = 0 ,month = 0,counter = 0):\n",
        "    self.year = year\n",
        "    self.month = month\n",
        "    self.counter = counter\n",
        "  def toPrint(self):\n",
        "    print(f\"({self.year}/{self.month}) => {self.counter}\")\n",
        "  def getDate(self):\n",
        "    return f\"{self.year}/{self.month}\"\n",
        "\n",
        "  def getCounter(self):\n",
        "    return self.counter\n",
        "\n",
        "def count_entries(data,year,month):\n",
        "  result = []\n",
        "  for i in year:\n",
        "    for j in month:\n",
        "      counter = sum((pd.to_datetime(df['Time']).dt.year == i) & (pd.to_datetime(df['Time']).dt.month == j))\n",
        "\n",
        "      if counter > 0 :\n",
        "        result.append(Date(i,j,counter))\n",
        "  return result\n",
        "\n",
        "\n"
      ],
      "metadata": {
        "id": "3kboWf68vOnd"
      },
      "execution_count": 6,
      "outputs": []
    },
    {
      "cell_type": "code",
      "source": [
        "df = pd.DataFrame(data)\n",
        "Date = count_entries(df,year,month)"
      ],
      "metadata": {
        "id": "IV99enMp06TE"
      },
      "execution_count": 7,
      "outputs": []
    },
    {
      "cell_type": "code",
      "source": [
        "\n",
        "xAxis = []\n",
        "yAxis = []\n",
        "for i in range(len(Date)):\n",
        "  xAxis.append(Date[i].getDate())\n",
        "  yAxis.append(Date[i].getCounter())\n",
        "\n",
        "print(xAxis)\n",
        "print(yAxis)\n",
        "\n",
        "plt.grid(True)\n",
        "\n",
        "plt.plot(xAxis,yAxis, color = '#8a5082', marker='o')\n",
        "plt.xlabel('variable')\n",
        "plt.ylabel('value')\n",
        "plt.show()\n",
        "\n",
        "\n",
        "\n",
        "\n"
      ],
      "metadata": {
        "id": "gCXzPs_2mmdj",
        "colab": {
          "base_uri": "https://localhost:8080/",
          "height": 484
        },
        "outputId": "2ed014c9-8b91-4eda-f361-681dd0cf006c"
      },
      "execution_count": 8,
      "outputs": [
        {
          "output_type": "stream",
          "name": "stdout",
          "text": [
            "['2022/11', '2022/12', '2023/1']\n",
            "[8712, 843, 242]\n"
          ]
        },
        {
          "output_type": "display_data",
          "data": {
            "text/plain": [
              "<Figure size 640x480 with 1 Axes>"
            ],
            "image/png": "[encoded data removed]"
          },
          "metadata": {}
        }
      ]
    },
    {
      "cell_type": "code",
      "source": [
        "\n",
        "# Function to plot bar graph\n",
        "def plot_bar_graph(document):\n",
        "    filtered_df = df[df['Document'] == document]\n",
        "    tab_counts = filtered_df['Tab'].value_counts()\n",
        "    plt.figure(figsize=(10, 6))\n",
        "    tab_counts.plot(kind='bar')\n",
        "    plt.title(f'Actions Count per Tab for Document: {document}')\n",
        "    plt.xlabel('Tab')\n",
        "    plt.ylabel('Number of Actions')\n",
        "    plt.xticks(rotation=45, ha='right')\n",
        "    plt.show()\n",
        "\n",
        "# Get unique documents\n",
        "documents = df['Document'].unique()\n",
        "\n",
        "# Create dropdown widget\n",
        "dropdown3 = widgets.Dropdown(\n",
        "    options=documents,\n",
        "    description='Document:',\n",
        "    disabled=False,\n",
        "    value=documents[0]\n",
        ")\n",
        "\n",
        "# Handle dropdown value change\n",
        "def on_dropdown_change(change):\n",
        "    if change['type'] == 'change' and change['name'] == 'value':\n",
        "\n",
        "        clear_output(wait=True)\n",
        "        display(dropdown)\n",
        "        plot_bar_graph(change['new'])\n",
        "\n",
        "\n",
        "dropdown3.observe(on_dropdown_change)\n",
        "\n",
        "# Display the dropdown\n",
        "display(dropdown3)"
      ],
      "metadata": {
        "id": "FT3w33Xf3_Hf",
        "colab": {
          "base_uri": "https://localhost:8080/",
          "height": 746,
          "referenced_widgets": [
            "c09ff21a90db416b8685ed59845cc90a",
            "71cef773bc9247488efce9ae49ec3e5c",
            "67887a3cc1c84b0592de50d2a01e3175",
            "f159b10442084d3fb06276d279a98252",
            "77cd9f39b46e42a8a9f57e3089cb5d48",
            "6d92a4e5158c4f2c933aaa2942369397"
          ]
        },
        "outputId": "e7b3a85e-0973-4c1e-b7f4-bc569244e3f9"
      },
      "execution_count": 9,
      "outputs": [
        {
          "output_type": "display_data",
          "data": {
            "text/plain": [
              "Dropdown(description='Document:', options=('Industry 4.0 Project', 'Part Studio 1 Copy 1.stl', 'Part Studio 1.…"
            ],
            "application/vnd.jupyter.widget-view+json": {
              "version_major": 2,
              "version_minor": 0,
              "model_id": "f159b10442084d3fb06276d279a98252"
            }
          },
          "metadata": {}
        },
        {
          "output_type": "display_data",
          "data": {
            "text/plain": [
              "<Figure size 1000x600 with 1 Axes>"
            ],
            "image/png": "[encoded data removed]"
          },
          "metadata": {}
        }
      ]
    },
    {
      "cell_type": "code",
      "source": [
        "import plotly.express as px\n",
        "\n",
        "# Prepare the data for the pie chart\n",
        "document_counts = df['Document'].value_counts().reset_index()\n",
        "document_counts.columns = ['Document', 'Count']\n",
        "\n",
        "# Create an interactive pie chart\n",
        "fig = px.pie(\n",
        "    document_counts,\n",
        "    names='Document',\n",
        "    values='Count',\n",
        "    title='Document Usage Distribution',\n",
        "    hover_data={'Count': True},  # Add counts to hover data\n",
        "    hole=0.3  # Optional: create a donut chart\n",
        ")\n",
        "\n",
        "fig.update_traces(\n",
        "    textinfo='none',  # Hide the text on the pie chart\n",
        "    hovertemplate='<b>%{label}</b><br>Count: %{value}<br>Percentage: %{percent:.2%}'  # Hover template\n",
        ")\n",
        "\n",
        "fig.update_layout(\n",
        "    legend_title_text='Documents',\n",
        "    legend=dict(\n",
        "        x=1,\n",
        "        y=0.5,\n",
        "        traceorder='normal',\n",
        "        font=dict(size=12),\n",
        "    ),\n",
        "    margin=dict(l=0, r=200, t=50, b=50),  # Adjust margins to make room for the legend\n",
        ")\n",
        "\n",
        "fig.show()"
      ],
      "metadata": {
        "id": "asMia54i4sE0",
        "colab": {
          "base_uri": "https://localhost:8080/",
          "height": 542
        },
        "outputId": "6e97e4b3-77e5-4824-b17f-0c9d41f5673f"
      },
      "execution_count": 10,
      "outputs": [
        {
          "output_type": "display_data",
          "data": {
            "text/html": [
              "<html>\n",
              "<head><meta charset=\"utf-8\" /></head>\n",
              "<body>\n",
              "    <div>            <script src=\"https://cdnjs.cloudflare.com/ajax/libs/mathjax/2.7.5/MathJax.js?config=TeX-AMS-MML_SVG\"></script><script type=\"text/javascript\">if (window.MathJax && window.MathJax.Hub && window.MathJax.Hub.Config) {window.MathJax.Hub.Config({SVG: {font: \"STIX-Web\"}});}</script>                <script type=\"text/javascript\">window.PlotlyConfig = {MathJaxConfig: 'local'};</script>\n",
              "        <script charset=\"utf-8\" src=\"https://cdn.plot.ly/plotly-2.24.1.min.js\"></script>                <div id=\"9590f061-8914-44d4-a7a5-0e80afcb32e4\" class=\"plotly-graph-div\" style=\"height:525px; width:100%;\"></div>            <script type=\"text/javascript\">                                    window.PLOTLYENV=window.PLOTLYENV || {};                                    if (document.getElementById(\"9590f061-8914-44d4-a7a5-0e80afcb32e4\")) {                    Plotly.newPlot(                        \"9590f061-8914-44d4-a7a5-0e80afcb32e4\",                        [{\"customdata\":[[8406],[505],[318],[248],[63],[33],[32],[31],[26],[25],[22],[17],[12],[12],[12],[10],[9],[7],[5]],\"domain\":{\"x\":[0.0,1.0],\"y\":[0.0,1.0]},\"hole\":0.3,\"hovertemplate\":\"\\u003cb\\u003e%{label}\\u003c\\u002fb\\u003e\\u003cbr\\u003eCount: %{value}\\u003cbr\\u003ePercentage: %{percent:.2%}\",\"labels\":[\"Bridge\",\"rotation to displacement\",\"Industry 4.0 Project\",\"Start\",\"Bridge V2\",\"Bridge 1- StudentA1+A2+A3.stl\",\"Bridge Challenge 2.0 - Rabea+Aibeck+Shiraz (Look for the  notes in the STL file)\",\"Bridge - StudentA1+A2+A3.stl\",\"Bridge - 2 - StudentA1+A2+A3.stl\",\"2_StudentA1+A2+A3.stl\",\"Bridge - 1 - StudentA1+A2+A3.stl\",\"Part Studio 1 Copy 1.stl\",\"Part Studio 2.stl\",\"Part Studio 2 Copy 1.stl\",\"Part Studio 1.stl\",\"\\u05d0\\u05ea\\u05d2\\u05e8 \\u05d4\\u05d2\\u05e9\\u05e8 - \\u05d4\\u05d2\\u05d3\\u05e8\\u05d4\",\"Update Bridge 5.12.22\",\"Bridge - StudentA1+A2+A3..stl\",\"Bridge ver1- Daniel&Omer (1).stl\"],\"legendgroup\":\"\",\"name\":\"\",\"showlegend\":true,\"values\":[8406,505,318,248,63,33,32,31,26,25,22,17,12,12,12,10,9,7,5],\"type\":\"pie\",\"textinfo\":\"none\"}],                        {\"template\":{\"data\":{\"histogram2dcontour\":[{\"type\":\"histogram2dcontour\",\"colorbar\":{\"outlinewidth\":0,\"ticks\":\"\"},\"colorscale\":[[0.0,\"#0d0887\"],[0.1111111111111111,\"#46039f\"],[0.2222222222222222,\"#7201a8\"],[0.3333333333333333,\"#9c179e\"],[0.4444444444444444,\"#bd3786\"],[0.5555555555555556,\"#d8576b\"],[0.6666666666666666,\"#ed7953\"],[0.7777777777777778,\"#fb9f3a\"],[0.8888888888888888,\"#fdca26\"],[1.0,\"#f0f921\"]]}],\"choropleth\":[{\"type\":\"choropleth\",\"colorbar\":{\"outlinewidth\":0,\"ticks\":\"\"}}],\"histogram2d\":[{\"type\":\"histogram2d\",\"colorbar\":{\"outlinewidth\":0,\"ticks\":\"\"},\"colorscale\":[[0.0,\"#0d0887\"],[0.1111111111111111,\"#46039f\"],[0.2222222222222222,\"#7201a8\"],[0.3333333333333333,\"#9c179e\"],[0.4444444444444444,\"#bd3786\"],[0.5555555555555556,\"#d8576b\"],[0.6666666666666666,\"#ed7953\"],[0.7777777777777778,\"#fb9f3a\"],[0.8888888888888888,\"#fdca26\"],[1.0,\"#f0f921\"]]}],\"heatmap\":[{\"type\":\"heatmap\",\"colorbar\":{\"outlinewidth\":0,\"ticks\":\"\"},\"colorscale\":[[0.0,\"#0d0887\"],[0.1111111111111111,\"#46039f\"],[0.2222222222222222,\"#7201a8\"],[0.3333333333333333,\"#9c179e\"],[0.4444444444444444,\"#bd3786\"],[0.5555555555555556,\"#d8576b\"],[0.6666666666666666,\"#ed7953\"],[0.7777777777777778,\"#fb9f3a\"],[0.8888888888888888,\"#fdca26\"],[1.0,\"#f0f921\"]]}],\"heatmapgl\":[{\"type\":\"heatmapgl\",\"colorbar\":{\"outlinewidth\":0,\"ticks\":\"\"},\"colorscale\":[[0.0,\"#0d0887\"],[0.1111111111111111,\"#46039f\"],[0.2222222222222222,\"#7201a8\"],[0.3333333333333333,\"#9c179e\"],[0.4444444444444444,\"#bd3786\"],[0.5555555555555556,\"#d8576b\"],[0.6666666666666666,\"#ed7953\"],[0.7777777777777778,\"#fb9f3a\"],[0.8888888888888888,\"#fdca26\"],[1.0,\"#f0f921\"]]}],\"contourcarpet\":[{\"type\":\"contourcarpet\",\"colorbar\":{\"outlinewidth\":0,\"ticks\":\"\"}}],\"contour\":[{\"type\":\"contour\",\"colorbar\":{\"outlinewidth\":0,\"ticks\":\"\"},\"colorscale\":[[0.0,\"#0d0887\"],[0.1111111111111111,\"#46039f\"],[0.2222222222222222,\"#7201a8\"],[0.3333333333333333,\"#9c179e\"],[0.4444444444444444,\"#bd3786\"],[0.5555555555555556,\"#d8576b\"],[0.6666666666666666,\"#ed7953\"],[0.7777777777777778,\"#fb9f3a\"],[0.8888888888888888,\"#fdca26\"],[1.0,\"#f0f921\"]]}],\"surface\":[{\"type\":\"surface\",\"colorbar\":{\"outlinewidth\":0,\"ticks\":\"\"},\"colorscale\":[[0.0,\"#0d0887\"],[0.1111111111111111,\"#46039f\"],[0.2222222222222222,\"#7201a8\"],[0.3333333333333333,\"#9c179e\"],[0.4444444444444444,\"#bd3786\"],[0.5555555555555556,\"#d8576b\"],[0.6666666666666666,\"#ed7953\"],[0.7777777777777778,\"#fb9f3a\"],[0.8888888888888888,\"#fdca26\"],[1.0,\"#f0f921\"]]}],\"mesh3d\":[{\"type\":\"mesh3d\",\"colorbar\":{\"outlinewidth\":0,\"ticks\":\"\"}}],\"scatter\":[{\"fillpattern\":{\"fillmode\":\"overlay\",\"size\":10,\"solidity\":0.2},\"type\":\"scatter\"}],\"parcoords\":[{\"type\":\"parcoords\",\"line\":{\"colorbar\":{\"outlinewidth\":0,\"ticks\":\"\"}}}],\"scatterpolargl\":[{\"type\":\"scatterpolargl\",\"marker\":{\"colorbar\":{\"outlinewidth\":0,\"ticks\":\"\"}}}],\"bar\":[{\"error_x\":{\"color\":\"#2a3f5f\"},\"error_y\":{\"color\":\"#2a3f5f\"},\"marker\":{\"line\":{\"color\":\"#E5ECF6\",\"width\":0.5},\"pattern\":{\"fillmode\":\"overlay\",\"size\":10,\"solidity\":0.2}},\"type\":\"bar\"}],\"scattergeo\":[{\"type\":\"scattergeo\",\"marker\":{\"colorbar\":{\"outlinewidth\":0,\"ticks\":\"\"}}}],\"scatterpolar\":[{\"type\":\"scatterpolar\",\"marker\":{\"colorbar\":{\"outlinewidth\":0,\"ticks\":\"\"}}}],\"histogram\":[{\"marker\":{\"pattern\":{\"fillmode\":\"overlay\",\"size\":10,\"solidity\":0.2}},\"type\":\"histogram\"}],\"scattergl\":[{\"type\":\"scattergl\",\"marker\":{\"colorbar\":{\"outlinewidth\":0,\"ticks\":\"\"}}}],\"scatter3d\":[{\"type\":\"scatter3d\",\"line\":{\"colorbar\":{\"outlinewidth\":0,\"ticks\":\"\"}},\"marker\":{\"colorbar\":{\"outlinewidth\":0,\"ticks\":\"\"}}}],\"scattermapbox\":[{\"type\":\"scattermapbox\",\"marker\":{\"colorbar\":{\"outlinewidth\":0,\"ticks\":\"\"}}}],\"scatterternary\":[{\"type\":\"scatterternary\",\"marker\":{\"colorbar\":{\"outlinewidth\":0,\"ticks\":\"\"}}}],\"scattercarpet\":[{\"type\":\"scattercarpet\",\"marker\":{\"colorbar\":{\"outlinewidth\":0,\"ticks\":\"\"}}}],\"carpet\":[{\"aaxis\":{\"endlinecolor\":\"#2a3f5f\",\"gridcolor\":\"white\",\"linecolor\":\"white\",\"minorgridcolor\":\"white\",\"startlinecolor\":\"#2a3f5f\"},\"baxis\":{\"endlinecolor\":\"#2a3f5f\",\"gridcolor\":\"white\",\"linecolor\":\"white\",\"minorgridcolor\":\"white\",\"startlinecolor\":\"#2a3f5f\"},\"type\":\"carpet\"}],\"table\":[{\"cells\":{\"fill\":{\"color\":\"#EBF0F8\"},\"line\":{\"color\":\"white\"}},\"header\":{\"fill\":{\"color\":\"#C8D4E3\"},\"line\":{\"color\":\"white\"}},\"type\":\"table\"}],\"barpolar\":[{\"marker\":{\"line\":{\"color\":\"#E5ECF6\",\"width\":0.5},\"pattern\":{\"fillmode\":\"overlay\",\"size\":10,\"solidity\":0.2}},\"type\":\"barpolar\"}],\"pie\":[{\"automargin\":true,\"type\":\"pie\"}]},\"layout\":{\"autotypenumbers\":\"strict\",\"colorway\":[\"#636efa\",\"#EF553B\",\"#00cc96\",\"#ab63fa\",\"#FFA15A\",\"#19d3f3\",\"#FF6692\",\"#B6E880\",\"#FF97FF\",\"#FECB52\"],\"font\":{\"color\":\"#2a3f5f\"},\"hovermode\":\"closest\",\"hoverlabel\":{\"align\":\"left\"},\"paper_bgcolor\":\"white\",\"plot_bgcolor\":\"#E5ECF6\",\"polar\":{\"bgcolor\":\"#E5ECF6\",\"angularaxis\":{\"gridcolor\":\"white\",\"linecolor\":\"white\",\"ticks\":\"\"},\"radialaxis\":{\"gridcolor\":\"white\",\"linecolor\":\"white\",\"ticks\":\"\"}},\"ternary\":{\"bgcolor\":\"#E5ECF6\",\"aaxis\":{\"gridcolor\":\"white\",\"linecolor\":\"white\",\"ticks\":\"\"},\"baxis\":{\"gridcolor\":\"white\",\"linecolor\":\"white\",\"ticks\":\"\"},\"caxis\":{\"gridcolor\":\"white\",\"linecolor\":\"white\",\"ticks\":\"\"}},\"coloraxis\":{\"colorbar\":{\"outlinewidth\":0,\"ticks\":\"\"}},\"colorscale\":{\"sequential\":[[0.0,\"#0d0887\"],[0.1111111111111111,\"#46039f\"],[0.2222222222222222,\"#7201a8\"],[0.3333333333333333,\"#9c179e\"],[0.4444444444444444,\"#bd3786\"],[0.5555555555555556,\"#d8576b\"],[0.6666666666666666,\"#ed7953\"],[0.7777777777777778,\"#fb9f3a\"],[0.8888888888888888,\"#fdca26\"],[1.0,\"#f0f921\"]],\"sequentialminus\":[[0.0,\"#0d0887\"],[0.1111111111111111,\"#46039f\"],[0.2222222222222222,\"#7201a8\"],[0.3333333333333333,\"#9c179e\"],[0.4444444444444444,\"#bd3786\"],[0.5555555555555556,\"#d8576b\"],[0.6666666666666666,\"#ed7953\"],[0.7777777777777778,\"#fb9f3a\"],[0.8888888888888888,\"#fdca26\"],[1.0,\"#f0f921\"]],\"diverging\":[[0,\"#8e0152\"],[0.1,\"#c51b7d\"],[0.2,\"#de77ae\"],[0.3,\"#f1b6da\"],[0.4,\"#fde0ef\"],[0.5,\"#f7f7f7\"],[0.6,\"#e6f5d0\"],[0.7,\"#b8e186\"],[0.8,\"#7fbc41\"],[0.9,\"#4d9221\"],[1,\"#276419\"]]},\"xaxis\":{\"gridcolor\":\"white\",\"linecolor\":\"white\",\"ticks\":\"\",\"title\":{\"standoff\":15},\"zerolinecolor\":\"white\",\"automargin\":true,\"zerolinewidth\":2},\"yaxis\":{\"gridcolor\":\"white\",\"linecolor\":\"white\",\"ticks\":\"\",\"title\":{\"standoff\":15},\"zerolinecolor\":\"white\",\"automargin\":true,\"zerolinewidth\":2},\"scene\":{\"xaxis\":{\"backgroundcolor\":\"#E5ECF6\",\"gridcolor\":\"white\",\"linecolor\":\"white\",\"showbackground\":true,\"ticks\":\"\",\"zerolinecolor\":\"white\",\"gridwidth\":2},\"yaxis\":{\"backgroundcolor\":\"#E5ECF6\",\"gridcolor\":\"white\",\"linecolor\":\"white\",\"showbackground\":true,\"ticks\":\"\",\"zerolinecolor\":\"white\",\"gridwidth\":2},\"zaxis\":{\"backgroundcolor\":\"#E5ECF6\",\"gridcolor\":\"white\",\"linecolor\":\"white\",\"showbackground\":true,\"ticks\":\"\",\"zerolinecolor\":\"white\",\"gridwidth\":2}},\"shapedefaults\":{\"line\":{\"color\":\"#2a3f5f\"}},\"annotationdefaults\":{\"arrowcolor\":\"#2a3f5f\",\"arrowhead\":0,\"arrowwidth\":1},\"geo\":{\"bgcolor\":\"white\",\"landcolor\":\"#E5ECF6\",\"subunitcolor\":\"white\",\"showland\":true,\"showlakes\":true,\"lakecolor\":\"white\"},\"title\":{\"x\":0.05},\"mapbox\":{\"style\":\"light\"}}},\"legend\":{\"tracegroupgap\":0,\"title\":{\"text\":\"Documents\"},\"font\":{\"size\":12},\"x\":1,\"y\":0.5,\"traceorder\":\"normal\"},\"title\":{\"text\":\"Document Usage Distribution\"},\"margin\":{\"l\":0,\"r\":200,\"t\":50,\"b\":50}},                        {\"responsive\": true}                    ).then(function(){\n",
              "                            \n",
              "var gd = document.getElementById('9590f061-8914-44d4-a7a5-0e80afcb32e4');\n",
              "var x = new MutationObserver(function (mutations, observer) {{\n",
              "        var display = window.getComputedStyle(gd).display;\n",
              "        if (!display || display === 'none') {{\n",
              "            console.log([gd, 'removed!']);\n",
              "            Plotly.purge(gd);\n",
              "            observer.disconnect();\n",
              "        }}\n",
              "}});\n",
              "\n",
              "// Listen for the removal of the full notebook cells\n",
              "var notebookContainer = gd.closest('#notebook-container');\n",
              "if (notebookContainer) {{\n",
              "    x.observe(notebookContainer, {childList: true});\n",
              "}}\n",
              "\n",
              "// Listen for the clearing of the current output cell\n",
              "var outputEl = gd.closest('.output');\n",
              "if (outputEl) {{\n",
              "    x.observe(outputEl, {childList: true});\n",
              "}}\n",
              "\n",
              "                        })                };                            </script>        </div>\n",
              "</body>\n",
              "</html>"
            ]
          },
          "metadata": {}
        }
      ]
    },
    {
      "cell_type": "code",
      "source": [
        "\n",
        "def sumActsStudBydoc(document):\n",
        "   filtered_df = df[df['Document'] == document]\n",
        "   user_counts = filtered_df['User'].value_counts()\n",
        "   unique_users = user_counts.size\n",
        "   # Plotting the pie chart\n",
        "   plt.figure(figsize=(8, 8))\n",
        "   plt.pie(user_counts, labels=user_counts.index, autopct='%1.1f%%', startangle=140)\n",
        "   plt.title(f'Count of Each Student for Document \"{document}\"')\n",
        "   plt.axis('equal')  # Equal aspect ratio ensures that pie is drawn as a circle.\n",
        "   plt.show()\n",
        "sumActsStudBydoc(dropdown3.value)"
      ],
      "metadata": {
        "id": "XjdoXr8R6aus",
        "colab": {
          "base_uri": "https://localhost:8080/",
          "height": 675
        },
        "outputId": "8757e4a1-1210-4f5e-ccff-7683cd27a519"
      },
      "execution_count": 11,
      "outputs": [
        {
          "output_type": "display_data",
          "data": {
            "text/plain": [
              "<Figure size 800x800 with 1 Axes>"
            ],
            "image/png": "[encoded data removed]"
          },
          "metadata": {}
        }
      ]
    }
  ]
}