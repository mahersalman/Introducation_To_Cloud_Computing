{
  "nbformat": 4,
  "nbformat_minor": 0,
  "metadata": {
    "colab": {
      "provenance": [],
      "authorship_tag": "ABX9TyPq+fCMngNluHlDuEQm+Btf",
      "include_colab_link": true
    },
    "kernelspec": {
      "name": "python3",
      "display_name": "Python 3"
    },
    "language_info": {
      "name": "python"
    }
  },
  "cells": [
    {
      "cell_type": "markdown",
      "metadata": {
        "id": "view-in-github",
        "colab_type": "text"
      },
      "source": [
        "<a href=\"https://colab.research.google.com/github/mahersalman/Introducation_To_Cloud_Computing/blob/main/Tutorials/Tutorial6.ipynb\" target=\"_parent\"><img src=\"https://colab.research.google.com/assets/colab-badge.svg\" alt=\"Open In Colab\"/></a>"
      ]
    },
    {
      "cell_type": "code",
      "source": [
        "pip install requests beautifulsoup4"
      ],
      "metadata": {
        "colab": {
          "base_uri": "https://localhost:8080/"
        },
        "id": "nC9FGsAs62XT",
        "outputId": "aa163d65-6a24-44fc-efd5-a4be7fa29291"
      },
      "execution_count": 1,
      "outputs": [
        {
          "output_type": "stream",
          "name": "stdout",
          "text": [
            "Requirement already satisfied: requests in /usr/local/lib/python3.10/dist-packages (2.31.0)\n",
            "Requirement already satisfied: beautifulsoup4 in /usr/local/lib/python3.10/dist-packages (4.12.3)\n",
            "Requirement already satisfied: charset-normalizer<4,>=2 in /usr/local/lib/python3.10/dist-packages (from requests) (3.3.2)\n",
            "Requirement already satisfied: idna<4,>=2.5 in /usr/local/lib/python3.10/dist-packages (from requests) (3.7)\n",
            "Requirement already satisfied: urllib3<3,>=1.21.1 in /usr/local/lib/python3.10/dist-packages (from requests) (2.0.7)\n",
            "Requirement already satisfied: certifi>=2017.4.17 in /usr/local/lib/python3.10/dist-packages (from requests) (2024.6.2)\n",
            "Requirement already satisfied: soupsieve>1.2 in /usr/local/lib/python3.10/dist-packages (from beautifulsoup4) (2.5)\n"
          ]
        }
      ]
    },
    {
      "cell_type": "markdown",
      "source": [
        "# **1. Building Index**"
      ],
      "metadata": {
        "id": "HYwSquz3-HZl"
      }
    },
    {
      "cell_type": "markdown",
      "source": [
        "## 1.1 Fetching page and returning its soup"
      ],
      "metadata": {
        "id": "GV7edY3m8SGF"
      }
    },
    {
      "cell_type": "code",
      "execution_count": 2,
      "metadata": {
        "id": "RcMsAtL_6awv"
      },
      "outputs": [],
      "source": [
        "\n",
        "import requests\n",
        "from bs4 import BeautifulSoup\n",
        "\n",
        "def fetch_page(url):\n",
        "  response = requests.get(url)\n",
        "  if response.status_code == 200:\n",
        "    soup = BeautifulSoup(response.text, 'html.parser')\n",
        "    return soup\n",
        "  else:\n",
        "    return None"
      ]
    },
    {
      "cell_type": "markdown",
      "source": [
        "## 1.2 Return Index of a certain soup"
      ],
      "metadata": {
        "id": "abY6dTet8ZLp"
      }
    },
    {
      "cell_type": "code",
      "source": [
        "import re\n",
        "\n",
        "def index_words(soup):\n",
        "  index = {}\n",
        "  words = re.findall(r'\\w+', soup.get_text()) #soup.get_text() gets all text and removes all tags # \\w+ ignores special characters\n",
        "  for word in words:\n",
        "    word = word.lower()\n",
        "    if word in index:\n",
        "      index[word] += 1\n",
        "    else:\n",
        "      index[word] = 1\n",
        "  return index\n"
      ],
      "metadata": {
        "id": "xJNhBUee7GCV"
      },
      "execution_count": 3,
      "outputs": []
    },
    {
      "cell_type": "markdown",
      "source": [
        "## 1.3 Removing stop words from an Index"
      ],
      "metadata": {
        "id": "mAAfbLBB7u3X"
      }
    },
    {
      "cell_type": "code",
      "source": [
        "def remove_stop_words(index):\n",
        "  stop_words = {'a', 'an', 'the', 'and', 'or','in', 'on', 'at','to','be','of','that'}\n",
        "  for stop_word in stop_words:\n",
        "    if stop_word in index:\n",
        "      del index[stop_word]\n",
        "  return index\n"
      ],
      "metadata": {
        "id": "tDPi4tgo7XGj"
      },
      "execution_count": 29,
      "outputs": []
    },
    {
      "cell_type": "markdown",
      "source": [
        "## 1.4 Aggregate similiar words (words with same stem result) in Index"
      ],
      "metadata": {
        "id": "7twWKZMc82kG"
      }
    },
    {
      "cell_type": "code",
      "source": [
        "from nltk.stem import PorterStemmer\n",
        "\n",
        "def apply_stemming(index):\n",
        "  stemmer = PorterStemmer()\n",
        "  stemmed_index = {}\n",
        "  for word, count in index.items():\n",
        "    stemmed_word = stemmer.stem(word)\n",
        "    if stemmed_word in stemmed_index:\n",
        "      stemmed_index[stemmed_word] += count\n",
        "    else:\n",
        "      stemmed_index[stemmed_word] = count\n",
        "  return stemmed_index\n"
      ],
      "metadata": {
        "id": "dOg9FuPV7iBs"
      },
      "execution_count": 5,
      "outputs": []
    },
    {
      "cell_type": "markdown",
      "source": [
        "# **2. Handling Search Query**"
      ],
      "metadata": {
        "id": "Nj1LPVnC-Rpm"
      }
    },
    {
      "cell_type": "markdown",
      "source": [
        "## 2.1. Counting for each word in query, number of appearances in Index"
      ],
      "metadata": {
        "id": "vP6TWi_Y-WZC"
      }
    },
    {
      "cell_type": "code",
      "source": [
        "def search(query, index):\n",
        "  stemmer = PorterStemmer()\n",
        "  query_words = re.findall(r'\\w+', query.lower())\n",
        "  results = {}\n",
        "  for word in query_words:\n",
        "    word= stemmer.stem(word)\n",
        "    if word in index:\n",
        "      results[word] = index[word]\n",
        "  return results\n"
      ],
      "metadata": {
        "id": "ZGCSGU5N-VRj"
      },
      "execution_count": 6,
      "outputs": []
    },
    {
      "cell_type": "markdown",
      "source": [
        "# 3. Search engine for a single page (usage example method)\n",
        "i. creates index for the page\n",
        "\n",
        "ii. returns arrays of frequencies for each word in query"
      ],
      "metadata": {
        "id": "pNBtXyJV_PIy"
      }
    },
    {
      "cell_type": "code",
      "source": [
        "def search_engine(url, query):\n",
        "  soup = fetch_page(url)\n",
        "  if soup is None:\n",
        "    return None\n",
        "  index = index_words(soup)\n",
        "  index = remove_stop_words(index)\n",
        "  index = apply_stemming(index)\n",
        "  results = search(query, index)\n",
        "  return results\n"
      ],
      "metadata": {
        "id": "LfnuNPja_Ob5"
      },
      "execution_count": 30,
      "outputs": []
    },
    {
      "cell_type": "markdown",
      "source": [
        "Example of using the method search_engine"
      ],
      "metadata": {
        "id": "6N2a64CpAmXM"
      }
    },
    {
      "cell_type": "code",
      "source": [
        "# url = 'https://en.wikipedia.org/wiki/Bird'\n",
        "# query = 'bird'\n",
        "# results = search_engine(url, query)\n",
        "# print(results)\n"
      ],
      "metadata": {
        "colab": {
          "base_uri": "https://localhost:8080/"
        },
        "id": "el4eHZEuAebn",
        "outputId": "a27ef695-1dc2-47ed-db84-ca61fb4532cd"
      },
      "execution_count": 21,
      "outputs": [
        {
          "output_type": "stream",
          "name": "stdout",
          "text": [
            "{'bird': 568}\n"
          ]
        }
      ]
    },
    {
      "cell_type": "code",
      "source": [
        "# url = 'https://en.wikipedia.org/wiki/Bird'\n",
        "# query = 'birds wings'\n",
        "# results = search_engine(url, query)\n",
        "# print(results)\n",
        "# rank=1\n",
        "# for word, count in results.items():\n",
        "#   rank = rank*1/count\n",
        "# rank = 1-rank\n",
        "# print(rank)\n",
        "\n"
      ],
      "metadata": {
        "colab": {
          "base_uri": "https://localhost:8080/"
        },
        "id": "fRqV3rmsBYxf",
        "outputId": "1ff7705d-8935-4a70-d6d1-0f9908f9ef3d"
      },
      "execution_count": 22,
      "outputs": [
        {
          "output_type": "stream",
          "name": "stdout",
          "text": [
            "{'bird': 568, 'wing': 25}\n",
            "0.9999295774647887\n"
          ]
        }
      ]
    },
    {
      "cell_type": "code",
      "source": [
        "# url = 'https://en.wikipedia.org/wiki/Bird'\n",
        "# query = 'owls'\n",
        "# results = search_engine(url, query)\n",
        "# print(results)\n",
        "# rank=1\n",
        "# for word, count in results.items():\n",
        "#   rank = rank*1/count\n",
        "# rank = 1-rank\n",
        "# print(rank)\n"
      ],
      "metadata": {
        "colab": {
          "base_uri": "https://localhost:8080/"
        },
        "id": "jC7Uh1g_FC0Q",
        "outputId": "d2e415c4-5de7-44da-91a8-1feca8ba08ff"
      },
      "execution_count": 23,
      "outputs": [
        {
          "output_type": "stream",
          "name": "stdout",
          "text": [
            "{'owl': 13}\n",
            "0.9230769230769231\n"
          ]
        }
      ]
    },
    {
      "cell_type": "code",
      "source": [
        "# url = 'https://w3.braude.ac.il/?lang=en'\n",
        "# query = 'Industry'\n",
        "# results = search_engine(url, query)\n",
        "# print(results)\n",
        "# rank=1\n",
        "# for word, count in results.items():\n",
        "#   rank = rank*1/count\n",
        "# rank = 1-rank\n",
        "# print(rank)"
      ],
      "metadata": {
        "colab": {
          "base_uri": "https://localhost:8080/"
        },
        "id": "citwWyORFEpD",
        "outputId": "123710dc-15e4-4371-8b1a-9bf353db3781"
      },
      "execution_count": 24,
      "outputs": [
        {
          "output_type": "stream",
          "name": "stdout",
          "text": [
            "{'industri': 8}\n",
            "0.875\n"
          ]
        }
      ]
    },
    {
      "cell_type": "code",
      "source": [
        "# url = 'https://w3.braude.ac.il/?lang=en'\n",
        "# query = 'Braude college'\n",
        "# results = search_engine(url, query)\n",
        "# print(results)\n",
        "# rank=1\n",
        "# for word, count in results.items():\n",
        "#   rank = rank*1/count\n",
        "# rank = 1-rank\n",
        "# print(rank)"
      ],
      "metadata": {
        "colab": {
          "base_uri": "https://localhost:8080/"
        },
        "id": "PtlJWAbFFjfE",
        "outputId": "aa6f95d6-f0de-4c3d-951a-101222e68bfc"
      },
      "execution_count": 25,
      "outputs": [
        {
          "output_type": "stream",
          "name": "stdout",
          "text": [
            "{'braud': 13, 'colleg': 8}\n",
            "0.9903846153846154\n"
          ]
        }
      ]
    },
    {
      "cell_type": "code",
      "source": [
        "# url = 'https://w3.braude.ac.il/?lang=en'\n",
        "# query = 'Galilee center'\n",
        "# results = search_engine(url, query)\n",
        "# print(results)\n",
        "# rank=1\n",
        "# for word, count in results.items():\n",
        "#   rank = rank*1/count\n",
        "# rank = 1-rank\n",
        "# print(rank)"
      ],
      "metadata": {
        "colab": {
          "base_uri": "https://localhost:8080/"
        },
        "id": "py6CeWPZFt5K",
        "outputId": "3b12153b-fed2-4f05-d6b0-ccf233d4d0bf"
      },
      "execution_count": 26,
      "outputs": [
        {
          "output_type": "stream",
          "name": "stdout",
          "text": [
            "{'galile': 15, 'center': 4}\n",
            "0.9833333333333333\n"
          ]
        }
      ]
    },
    {
      "cell_type": "code",
      "source": [],
      "metadata": {
        "id": "qe4UfMsOXHtV"
      },
      "execution_count": 13,
      "outputs": []
    },
    {
      "cell_type": "markdown",
      "source": [
        "# **Building an Index for OnShape Glossary**"
      ],
      "metadata": {
        "id": "LR7W5RMEQqCh"
      }
    },
    {
      "cell_type": "code",
      "source": [
        "#Currently unused\n",
        "words={\"point\",\"circle\",\"import\",\"export\",\"rectangle\",\"arc\",\"triangle\",\"hole\",\"surface\",\"sketch\",\"feature\",\"part\",\"material\",\"measure\",\"tool\",\"update\",\"edit\",\"collaborate\",\"studio\",\"tab\", \"draw\",\"geometry\",\"extrude\",\"assemble\",\"plan\",\"assemble\",\"keyboard\",\"shortcut\"}"
      ],
      "metadata": {
        "id": "qFkqqC0oQij2"
      },
      "execution_count": 14,
      "outputs": []
    },
    {
      "cell_type": "code",
      "source": [
        "def build_index(url):\n",
        "  soup = fetch_page(url)\n",
        "  if soup is None:\n",
        "    return None\n",
        "  index1 = index_words(soup)\n",
        "  index1 = remove_stop_words(index1)\n",
        "  index1 = apply_stemming(index1)\n",
        "  return index1"
      ],
      "metadata": {
        "id": "DxJtVwgFR1DQ"
      },
      "execution_count": 31,
      "outputs": []
    },
    {
      "cell_type": "code",
      "source": [
        "glossaryIndex=build_index(\"https://cad.onshape.com/help/Content/Glossary/glossary.htm?tocpath=_____19\")"
      ],
      "metadata": {
        "id": "C_LHytsVepOR"
      },
      "execution_count": 34,
      "outputs": []
    },
    {
      "cell_type": "code",
      "source": [
        "# print(index1)\n",
        "for word,frequency in index1.items():\n",
        "  if frequency>25:\n",
        "    print(word,frequency)"
      ],
      "metadata": {
        "colab": {
          "base_uri": "https://localhost:8080/"
        },
        "id": "hwrWPGhPlR4z",
        "outputId": "32ebf551-ccd7-4b08-c783-afd90a3ac38a"
      },
      "execution_count": 33,
      "outputs": [
        {
          "output_type": "stream",
          "name": "stdout",
          "text": [
            "account 33\n",
            "set 33\n",
            "all 644\n",
            "context 676\n",
            "option 86\n",
            "document 164\n",
            "sketch 220\n",
            "part 524\n",
            "studio 369\n",
            "assembl 279\n",
            "draw 226\n",
            "render 159\n",
            "plan 626\n",
            "type 656\n",
            "profession 145\n",
            "enterpris 166\n",
            "your 65\n",
            "thi 66\n",
            "point 74\n",
            "one 51\n",
            "tool 130\n",
            "for 136\n",
            "creat 174\n",
            "sheet 70\n",
            "geometri 37\n",
            "which 55\n",
            "are 112\n",
            "view 151\n",
            "model 63\n",
            "between 40\n",
            "two 46\n",
            "keyboard 631\n",
            "shortcut 631\n",
            "n 505\n",
            "see 638\n",
            "also 648\n",
            "use 139\n",
            "dimens 49\n",
            "allow 67\n",
            "you 199\n",
            "place 29\n",
            "ani 50\n",
            "enabl 55\n",
            "by 82\n",
            "defin 32\n",
            "along 26\n",
            "it 57\n",
            "featur 118\n",
            "materi 27\n",
            "s 52\n",
            "appear 76\n",
            "submenu 30\n",
            "open 61\n",
            "display 53\n",
            "onshap 98\n",
            "menu 98\n",
            "simul 149\n",
            "instanc 47\n",
            "load 40\n",
            "dialog 32\n",
            "shift 49\n",
            "show 47\n",
            "have 29\n",
            "list 58\n",
            "can 89\n",
            "user 43\n",
            "tab 38\n",
            "is 162\n",
            "not 38\n",
            "add 26\n",
            "when 91\n",
            "select 185\n",
            "color 47\n",
            "face 94\n",
            "panel 77\n",
            "from 66\n",
            "where 41\n",
            "plane 67\n",
            "custom 27\n",
            "version 36\n",
            "new 46\n",
            "current 40\n",
            "into 26\n",
            "with 84\n",
            "line 42\n",
            "rotat 30\n",
            "scale 29\n",
            "surfac 75\n",
            "metal 41\n",
            "edit 40\n",
            "properti 52\n",
            "camera 40\n",
            "more 35\n",
            "insert 27\n",
            "as 99\n",
            "entiti 47\n",
            "axi 34\n",
            "mate 109\n",
            "edg 86\n",
            "connect 45\n",
            "curv 55\n",
            "workspac 38\n",
            "tabl 52\n",
            "other 39\n",
            "exist 28\n",
            "environ 36\n",
            "hide 33\n"
          ]
        }
      ]
    },
    {
      "cell_type": "markdown",
      "source": [
        "# Connecting to Firebase"
      ],
      "metadata": {
        "id": "9F1TpWoMdPEr"
      }
    },
    {
      "cell_type": "code",
      "source": [
        "pip install firebase"
      ],
      "metadata": {
        "id": "718htEF5dTY7",
        "colab": {
          "base_uri": "https://localhost:8080/"
        },
        "outputId": "4aeb14c6-a047-4b14-e371-a8b0e9c77938"
      },
      "execution_count": 18,
      "outputs": [
        {
          "output_type": "stream",
          "name": "stdout",
          "text": [
            "Collecting firebase\n",
            "  Downloading firebase-4.0.1-py3-none-any.whl (12 kB)\n",
            "Requirement already satisfied: requests in /usr/local/lib/python3.10/dist-packages (from firebase) (2.31.0)\n",
            "Requirement already satisfied: charset-normalizer<4,>=2 in /usr/local/lib/python3.10/dist-packages (from requests->firebase) (3.3.2)\n",
            "Requirement already satisfied: idna<4,>=2.5 in /usr/local/lib/python3.10/dist-packages (from requests->firebase) (3.7)\n",
            "Requirement already satisfied: urllib3<3,>=1.21.1 in /usr/local/lib/python3.10/dist-packages (from requests->firebase) (2.0.7)\n",
            "Requirement already satisfied: certifi>=2017.4.17 in /usr/local/lib/python3.10/dist-packages (from requests->firebase) (2024.6.2)\n",
            "Installing collected packages: firebase\n",
            "Successfully installed firebase-4.0.1\n"
          ]
        }
      ]
    },
    {
      "cell_type": "code",
      "source": [
        "pip install firebase-admin"
      ],
      "metadata": {
        "id": "W5Atx8P5dZfV",
        "colab": {
          "base_uri": "https://localhost:8080/"
        },
        "outputId": "4a2baa4a-2df9-4050-935a-4b6f3160318a"
      },
      "execution_count": 19,
      "outputs": [
        {
          "output_type": "stream",
          "name": "stdout",
          "text": [
            "Requirement already satisfied: firebase-admin in /usr/local/lib/python3.10/dist-packages (5.3.0)\n",
            "Requirement already satisfied: cachecontrol>=0.12.6 in /usr/local/lib/python3.10/dist-packages (from firebase-admin) (0.14.0)\n",
            "Requirement already satisfied: google-api-python-client>=1.7.8 in /usr/local/lib/python3.10/dist-packages (from firebase-admin) (2.84.0)\n",
            "Requirement already satisfied: google-cloud-storage>=1.37.1 in /usr/local/lib/python3.10/dist-packages (from firebase-admin) (2.8.0)\n",
            "Requirement already satisfied: google-api-core[grpc]<3.0.0dev,>=1.22.1 in /usr/local/lib/python3.10/dist-packages (from firebase-admin) (2.16.2)\n",
            "Requirement already satisfied: google-cloud-firestore>=2.1.0 in /usr/local/lib/python3.10/dist-packages (from firebase-admin) (2.11.1)\n",
            "Requirement already satisfied: requests>=2.16.0 in /usr/local/lib/python3.10/dist-packages (from cachecontrol>=0.12.6->firebase-admin) (2.31.0)\n",
            "Requirement already satisfied: msgpack<2.0.0,>=0.5.2 in /usr/local/lib/python3.10/dist-packages (from cachecontrol>=0.12.6->firebase-admin) (1.0.8)\n",
            "Requirement already satisfied: googleapis-common-protos<2.0.dev0,>=1.56.2 in /usr/local/lib/python3.10/dist-packages (from google-api-core[grpc]<3.0.0dev,>=1.22.1->firebase-admin) (1.63.2)\n",
            "Requirement already satisfied: protobuf!=3.20.0,!=3.20.1,!=4.21.0,!=4.21.1,!=4.21.2,!=4.21.3,!=4.21.4,!=4.21.5,<5.0.0.dev0,>=3.19.5 in /usr/local/lib/python3.10/dist-packages (from google-api-core[grpc]<3.0.0dev,>=1.22.1->firebase-admin) (3.20.3)\n",
            "Requirement already satisfied: google-auth<3.0.dev0,>=2.14.1 in /usr/local/lib/python3.10/dist-packages (from google-api-core[grpc]<3.0.0dev,>=1.22.1->firebase-admin) (2.27.0)\n",
            "Requirement already satisfied: grpcio<2.0dev,>=1.33.2 in /usr/local/lib/python3.10/dist-packages (from google-api-core[grpc]<3.0.0dev,>=1.22.1->firebase-admin) (1.64.1)\n",
            "Requirement already satisfied: grpcio-status<2.0.dev0,>=1.33.2 in /usr/local/lib/python3.10/dist-packages (from google-api-core[grpc]<3.0.0dev,>=1.22.1->firebase-admin) (1.48.2)\n",
            "Requirement already satisfied: httplib2<1dev,>=0.15.0 in /usr/local/lib/python3.10/dist-packages (from google-api-python-client>=1.7.8->firebase-admin) (0.22.0)\n",
            "Requirement already satisfied: google-auth-httplib2>=0.1.0 in /usr/local/lib/python3.10/dist-packages (from google-api-python-client>=1.7.8->firebase-admin) (0.1.1)\n",
            "Requirement already satisfied: uritemplate<5,>=3.0.1 in /usr/local/lib/python3.10/dist-packages (from google-api-python-client>=1.7.8->firebase-admin) (4.1.1)\n",
            "Requirement already satisfied: google-cloud-core<3.0.0dev,>=1.4.1 in /usr/local/lib/python3.10/dist-packages (from google-cloud-firestore>=2.1.0->firebase-admin) (2.3.3)\n",
            "Requirement already satisfied: proto-plus<2.0.0dev,>=1.22.0 in /usr/local/lib/python3.10/dist-packages (from google-cloud-firestore>=2.1.0->firebase-admin) (1.24.0)\n",
            "Requirement already satisfied: google-resumable-media>=2.3.2 in /usr/local/lib/python3.10/dist-packages (from google-cloud-storage>=1.37.1->firebase-admin) (2.7.1)\n",
            "Requirement already satisfied: cachetools<6.0,>=2.0.0 in /usr/local/lib/python3.10/dist-packages (from google-auth<3.0.dev0,>=2.14.1->google-api-core[grpc]<3.0.0dev,>=1.22.1->firebase-admin) (5.3.3)\n",
            "Requirement already satisfied: pyasn1-modules>=0.2.1 in /usr/local/lib/python3.10/dist-packages (from google-auth<3.0.dev0,>=2.14.1->google-api-core[grpc]<3.0.0dev,>=1.22.1->firebase-admin) (0.4.0)\n",
            "Requirement already satisfied: rsa<5,>=3.1.4 in /usr/local/lib/python3.10/dist-packages (from google-auth<3.0.dev0,>=2.14.1->google-api-core[grpc]<3.0.0dev,>=1.22.1->firebase-admin) (4.9)\n",
            "Requirement already satisfied: google-crc32c<2.0dev,>=1.0 in /usr/local/lib/python3.10/dist-packages (from google-resumable-media>=2.3.2->google-cloud-storage>=1.37.1->firebase-admin) (1.5.0)\n",
            "Requirement already satisfied: pyparsing!=3.0.0,!=3.0.1,!=3.0.2,!=3.0.3,<4,>=2.4.2 in /usr/local/lib/python3.10/dist-packages (from httplib2<1dev,>=0.15.0->google-api-python-client>=1.7.8->firebase-admin) (3.1.2)\n",
            "Requirement already satisfied: charset-normalizer<4,>=2 in /usr/local/lib/python3.10/dist-packages (from requests>=2.16.0->cachecontrol>=0.12.6->firebase-admin) (3.3.2)\n",
            "Requirement already satisfied: idna<4,>=2.5 in /usr/local/lib/python3.10/dist-packages (from requests>=2.16.0->cachecontrol>=0.12.6->firebase-admin) (3.7)\n",
            "Requirement already satisfied: urllib3<3,>=1.21.1 in /usr/local/lib/python3.10/dist-packages (from requests>=2.16.0->cachecontrol>=0.12.6->firebase-admin) (2.0.7)\n",
            "Requirement already satisfied: certifi>=2017.4.17 in /usr/local/lib/python3.10/dist-packages (from requests>=2.16.0->cachecontrol>=0.12.6->firebase-admin) (2024.6.2)\n",
            "Requirement already satisfied: pyasn1<0.7.0,>=0.4.6 in /usr/local/lib/python3.10/dist-packages (from pyasn1-modules>=0.2.1->google-auth<3.0.dev0,>=2.14.1->google-api-core[grpc]<3.0.0dev,>=1.22.1->firebase-admin) (0.6.0)\n"
          ]
        }
      ]
    },
    {
      "cell_type": "code",
      "source": [
        "#DO NOT RUN THIS AGAIN, CONSIDER DELETING FROM DB FIRST IF YOU WANT TO RUN AGAIN\n",
        "#Added to DB most frequent words with frequency above 25.\n",
        "# from firebase import firebase\n",
        "# FBconn = firebase.FirebaseApplication('https://cloud-tut6-2a99a-default-rtdb.firebaseio.com/',None)\n",
        "\n",
        "# for word,frequency in glossaryIndex.items():\n",
        "#   if frequency>25:\n",
        "#     data_to_upload = {\n",
        "#         'term' : word,\n",
        "#         'frequency' : frequency\n",
        "#     }\n",
        "#     result = FBconn.post('/onshapeGlossary/',data_to_upload)\n",
        "#     print(result)\n"
      ],
      "metadata": {
        "id": "zd-sI_CXdsqS",
        "colab": {
          "base_uri": "https://localhost:8080/"
        },
        "outputId": "07a07a86-d4fd-46af-e37e-7ce3c1d2a744"
      },
      "execution_count": 37,
      "outputs": [
        {
          "output_type": "stream",
          "name": "stdout",
          "text": [
            "{'name': '-O1bc_ukOHW988QGPpwk'}\n",
            "{'name': '-O1bc_whLs0jov94sCNl'}\n",
            "{'name': '-O1bc_yeu2TqDB2u4c2g'}\n",
            "{'name': '-O1bca-atBnh8-3CQgz7'}\n",
            "{'name': '-O1bca5NSfzq_NDv7WqP'}\n",
            "{'name': '-O1bca7c7OfawJzyvsDB'}\n",
            "{'name': '-O1bca9ppa_rGs27llnQ'}\n",
            "{'name': '-O1bcaC1ITtu1ieduNgw'}\n",
            "{'name': '-O1bcaE9MMR9l7zcmxJz'}\n",
            "{'name': '-O1bcaGFQJkVkBlqRaFb'}\n",
            "{'name': '-O1bcaIJFJhvgUWOCUTD'}\n",
            "{'name': '-O1bcaKVKpoIsVO7iL_j'}\n",
            "{'name': '-O1bcaMiRp73XFysvxtI'}\n",
            "{'name': '-O1bcaOsA__XqIR_oZh3'}\n",
            "{'name': '-O1bcaQxXzvdJmYbo6sw'}\n",
            "{'name': '-O1bcaTCq5BBRoKT5omC'}\n",
            "{'name': '-O1bcaVTmG5939UZcjEs'}\n",
            "{'name': '-O1bcaXg0YMNUgg9C9vt'}\n",
            "{'name': '-O1bcaZzR7ytjkB_8CRY'}\n",
            "{'name': '-O1bcab0J_-oXm3BtbRQ'}\n",
            "{'name': '-O1bcacwhJhPdsfYHUx7'}\n",
            "{'name': '-O1bcaewju2mVHazYek8'}\n",
            "{'name': '-O1bcagzhq0iBNyyRrUO'}\n",
            "{'name': '-O1bcaix-ui8PTIg-i2X'}\n",
            "{'name': '-O1bcalImwvL21RkXuzC'}\n",
            "{'name': '-O1bcanaGSs6uNss1Q9T'}\n",
            "{'name': '-O1bcapw5kscWr8Btshg'}\n",
            "{'name': '-O1bcarwNBsAjyfqGLMi'}\n",
            "{'name': '-O1bcau0CMwT-oKXXNpG'}\n",
            "{'name': '-O1bcaw6jbiIlyR1rOzP'}\n",
            "{'name': '-O1bcay95P-QC4SRk7oK'}\n",
            "{'name': '-O1bcb-JBaWRsSp4Nh9q'}\n",
            "{'name': '-O1bcb1QnXtSkEIZ1acm'}\n",
            "{'name': '-O1bcb3Pn2q0-0gCerM4'}\n",
            "{'name': '-O1bcb5ThFlLhrzw3i_9'}\n",
            "{'name': '-O1bcb7fo_ZtLjN2bQ63'}\n",
            "{'name': '-O1bcb9qmtVlJN8pBf5r'}\n",
            "{'name': '-O1bcbC3yK9f7P3_CvFi'}\n",
            "{'name': '-O1bcbEKGhmL-eLUware'}\n",
            "{'name': '-O1bcbGOIlZr4vKxlFg1'}\n",
            "{'name': '-O1bcbINNFsR5Na1ImL4'}\n",
            "{'name': '-O1bcbKJFtoyKuDx6bwJ'}\n",
            "{'name': '-O1bcbMFenndkIIo5pRR'}\n",
            "{'name': '-O1bcbOJlMtwvvgkIaMQ'}\n",
            "{'name': '-O1bcbQOMe8oxZg7lYsR'}\n",
            "{'name': '-O1bcbSGWa_ZGcetIzj2'}\n",
            "{'name': '-O1bcbUH_uHUf-8_C-bt'}\n",
            "{'name': '-O1bcbWLVeoFzvhFT_T7'}\n",
            "{'name': '-O1bcbYDr6LK4c0XiFtJ'}\n",
            "{'name': '-O1bcb_HHZCPPljedbXJ'}\n",
            "{'name': '-O1bcbbUY6UbwJApY8Z-'}\n",
            "{'name': '-O1bcbdgM9ZzFDRIFWlz'}\n",
            "{'name': '-O1bcbfn9wbLmvC5HVSm'}\n",
            "{'name': '-O1bcbho7tnmi68T129L'}\n",
            "{'name': '-O1bcbjudQGnLsV5LP5O'}\n",
            "{'name': '-O1bcbmB7xFdkd5zOuJb'}\n",
            "{'name': '-O1bcboH2HwYV-DlHWTH'}\n",
            "{'name': '-O1bcbqJA8a8UPq1eCoj'}\n",
            "{'name': '-O1bcbsh-I8xuVd66PNa'}\n",
            "{'name': '-O1bcbunOIXykA5jNY-z'}\n",
            "{'name': '-O1bcbwqfR8Xs9lsyo3D'}\n",
            "{'name': '-O1bcbyxF_SOuOdIebk1'}\n",
            "{'name': '-O1bcc-ukeUIhYm5h-0x'}\n",
            "{'name': '-O1bcc1uEsaZObLxJZsr'}\n",
            "{'name': '-O1bcc4VTkGmssTaW1ai'}\n",
            "{'name': '-O1bcc7CRSw8Q4wjaBrz'}\n",
            "{'name': '-O1bcc9x-g5-SPgN8SEE'}\n",
            "{'name': '-O1bccCdp_k7JsEmcBxq'}\n",
            "{'name': '-O1bccFUtpdi7Z_B-414'}\n",
            "{'name': '-O1bccI99ZCrGDtq4w2P'}\n",
            "{'name': '-O1bccKlFcOMLPNBctHx'}\n",
            "{'name': '-O1bccNbxZEHCgdWWYRp'}\n",
            "{'name': '-O1bccQStT2FILeWU0jG'}\n",
            "{'name': '-O1bccTG-wU1bKdkAbA7'}\n",
            "{'name': '-O1bccW7CQgmYjpFXu5j'}\n",
            "{'name': '-O1bccYqlaJi7kiVWjWj'}\n",
            "{'name': '-O1bccaYG-C0yQ1Nkh4g'}\n",
            "{'name': '-O1bccdOW6yF5xKX4IlE'}\n",
            "{'name': '-O1bccfzcuJG2EB3Fs-r'}\n",
            "{'name': '-O1bccieoM7dwmxwcroI'}\n",
            "{'name': '-O1bcclV8eai-WEG1i5J'}\n",
            "{'name': '-O1bccnscdqxI-OG8QAd'}\n",
            "{'name': '-O1bccq7kowogs3YGJpC'}\n",
            "{'name': '-O1bccsQ6fsZ8_a2HQkR'}\n",
            "{'name': '-O1bccu_InaEdRRQABos'}\n",
            "{'name': '-O1bccwf-Nswobe55bpa'}\n",
            "{'name': '-O1bccyyPjmDB06afmkm'}\n",
            "{'name': '-O1bcd06vYwr4O5hcLYr'}\n",
            "{'name': '-O1bcd23-3_q3Zbn0Yp7'}\n",
            "{'name': '-O1bcd430kia_w12X_1m'}\n",
            "{'name': '-O1bcd64FxZyGOzKbKmE'}\n",
            "{'name': '-O1bcd8KLBx4p757CqvS'}\n",
            "{'name': '-O1bcdAOIfuMP4Q1MAcc'}\n",
            "{'name': '-O1bcdCTF0SrHVEtoL9l'}\n",
            "{'name': '-O1bcdEs3bkmbNmj_hIn'}\n",
            "{'name': '-O1bcdH13julkxW2pmoO'}\n",
            "{'name': '-O1bcdJE5aoJbNXgbABr'}\n",
            "{'name': '-O1bcdLFD3-Gcn_MAkFZ'}\n",
            "{'name': '-O1bcdNInceHAh5oXlvF'}\n",
            "{'name': '-O1bcdPKV_Rd69A2eH7C'}\n",
            "{'name': '-O1bcdRN6MBr1i3hh69u'}\n",
            "{'name': '-O1bcdTXXrLUS5hzICOM'}\n",
            "{'name': '-O1bcdVVcwhuv3CThhMa'}\n",
            "{'name': '-O1bcdXWvUH0_RDkxSK3'}\n",
            "{'name': '-O1bcdZbPM_PcS3yl41O'}\n",
            "{'name': '-O1bcdaedARrAPIuN8NI'}\n",
            "{'name': '-O1bcdcjzkCFL1mqeJDf'}\n"
          ]
        }
      ]
    }
  ]
}